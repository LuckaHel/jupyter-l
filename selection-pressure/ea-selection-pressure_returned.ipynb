{
 "cells": [
  {
   "cell_type": "markdown",
   "metadata": {},
   "source": [
    "# Experiment: selekčný tlak\n",
    "\n",
    "Cieľom je merať selekčný tlak rôznych metód selekcie. Ide o to, ako veľmi jednotlivé selekčné metódy uprednostňujú jedincov s vyššou vhodnosťou oproti jedincom s vhodnosťou nižšou. \n",
    "\n",
    "Selekčný tlak bude meraný nepriamo pomocou určenia **doby prevzatia** (takeover time), čo je doba ktorú potrebuje jedinec s najväčšou vhodnosťou na to, aby sa stal dominantným v populácii (aby vyplnil celú populáciu svojimi kópiami). Čím je doba prevzatia menšia, tým silnejšie musel byť najlepší jedinec preferovaný voči ostatným jedincom a teda tým je vyvinutý selekčný tlak väčší.\n",
    "\n",
    "## Podstata experimentu\n",
    "\n",
    "Je daná skupina jedincov, pričom každý z nich má pridelenú vhodnosť. Existuje jeden jedinec s najväčšou vhodnosťou (trebárs Φ(best)=1.0), zatiaľ čo ostatné jedince majú vhodnosť menšiu (môžu mať navzájom rôzne vhodnosti ale nie je to nutné).\n",
    "\n",
    "Realizuje sa selekčný proces ako séria selekcií tvaru P -> P' -> P'' -> ... -> P''''''', pričom každá selekcia robí výber zo skupiny jedincov, ktorá vznikla ako výsledok predchádzajúcej selekcie. Toto reťazenie pokračuje dovtedy, kým nenastane jedna zo situácií:\n",
    "1. najlepší jedinec úplne vypadne z populácie (nebude v nej ani jedna jeho kópia),\n",
    "2. najlepší jedinec vyplní svojimi kópiami celú populáciu,\n",
    "3. uplynie maximálne povolený počet selekcií v sekvencii.\n",
    "\n",
    "Keďže sa jedná o stochastický proces, tak musí byť viackrát opakovaný pre získanie spoľahlivej vzorky dát. Ak v rámci tohto opakovania sa viackrát stalo, že najlepší jedinec dominoval v populácii, tak sa určí priemerný počet selekcií, ktorý je potrebným pre dosiahnutie tejto dominancie.\n",
    "\n",
    "## Príprava\n",
    "Pre prípravu experimentu je potrebné doplniť (nahradiť) kód bunke venovanej selekčnej metóde. Aktuálne je v nej imlementované vzorkovanie SSwR (teda základná ruleta). Je možné meniť metódu pre:\n",
    "1. premapovanie vhodnosti (aktuálne identita t.j. žiadne)\n",
    "2. určenie pravdepodobnosti selekcie (aktuálne proporcionálna selekcia)\n",
    "3. vzorkovanie jedného rodiča (aktuálne SSwR)\n",
    "4. selekciu rodičov (aktuálne opakovaná selekcia po jednom rodičovi)"
   ]
  },
  {
   "cell_type": "code",
   "execution_count": 70,
   "metadata": {},
   "outputs": [],
   "source": [
    "# zadanie: premapovanie exponenecialnym zotriedenim,vypocet pravdepodobnosti proporcionalnou selekciou , ruleta SuS- task 2\n",
    "import random\n",
    "from functools import reduce\n",
    "from operator import add\n",
    "import math"
   ]
  },
  {
   "cell_type": "code",
   "execution_count": 71,
   "metadata": {},
   "outputs": [],
   "source": [
    "# Generovanie populácie\n",
    "\n",
    "μ = 100  # veľkosť populácie\n",
    "jedince = [1] + [0 for i in range(μ-1)]\n",
    "#jedince"
   ]
  },
  {
   "cell_type": "code",
   "execution_count": 72,
   "metadata": {},
   "outputs": [],
   "source": [
    "\n",
    "MIN = 0.2  # minimalna mozna vhodnosť jedincov (okrem najlepsieho)\n",
    "MAX = 0.5  # maximalna mozna vhodnosť jedincov (okrem najlepsieho)\n",
    "\n",
    "def Φ(jedinec):\n",
    "    if jedinec == 1:\n",
    "        return 1.0\n",
    "    else:\n",
    "        return random.uniform(MIN, MAX)\n",
    "\n",
    "populacia = [(i, Φ(i)) for i in jedince]"
   ]
  },
  {
   "cell_type": "code",
   "execution_count": 86,
   "metadata": {},
   "outputs": [
    {
     "name": "stdout",
     "output_type": "stream",
     "text": [
      "[1, 1, 0, 0, 0, 0, 0, 0, 0, 0, 0, 0, 0, 0, 0, 0, 0, 0, 0, 0, 0, 0, 0, 0, 0, 0, 0, 0, 0, 0, 0, 0, 0, 0, 0, 0, 0, 0, 0, 0, 0, 0, 0, 0, 0, 0, 0, 0, 0, 0, 0, 0, 0, 0, 0, 0, 0, 0, 0, 0, 0, 0, 0, 0, 0, 0, 0, 0, 0, 0, 0, 0, 0, 0, 0, 0, 0, 0, 0, 0, 0, 0, 0, 0, 0, 0, 0, 0, 0, 0, 0, 0, 0, 0, 0, 0, 0, 0, 0, 0]\n"
     ]
    }
   ],
   "source": [
    "# Selekčná metóda - vyberá sa toľko rodičov, koľko je jedincov v populácii\n",
    "\n",
    "def exponential_fitness_remapping(populacia, c=0.98):\n",
    "    sorted_populacia = sorted(populacia, key=lambda x: x[1], reverse=True)\n",
    "    remapped_populacia = [(indiv[0], c ** (rank + 1)) for rank, indiv in enumerate(sorted_populacia)]\n",
    "    return remapped_populacia\n",
    "\n",
    "def urcenie_pravdepodobnosti_selekcie(remapped_populacia):\n",
    "    premap_Φ = [indiv[1] for indiv in remapped_populacia]\n",
    "    sum_Φ = reduce(add, premap_Φ)\n",
    "    ps = [Φ / sum_Φ for Φ in premap_Φ]\n",
    "    return [(remapped_populacia[i][0], ps[i]) for i in range(len(remapped_populacia))]\n",
    "\n",
    "\n",
    "def stochastic_universal_sampling(cumulative_probs, population_size):\n",
    "    pointer_spacing = 1.0 / population_size\n",
    "    start_point = random.uniform(0, pointer_spacing)\n",
    "    pointers = [start_point + i * pointer_spacing for i in range(population_size)]\n",
    "    \n",
    "    selected_individuals = []\n",
    "    current_member_idx = 0\n",
    "    for pointer in pointers:\n",
    "        while cumulative_probs[current_member_idx][1] < pointer:\n",
    "            current_member_idx += 1\n",
    "        selected_individuals.append(cumulative_probs[current_member_idx][0])\n",
    "    \n",
    "    return selected_individuals\n",
    "\n",
    "\n",
    "# Apply exponential fitness remapping to the population\n",
    "remapped_populacia = exponential_fitness_remapping(populacia)\n",
    "\n",
    "# Determine proportional selection probabilities\n",
    "proportional_selection = urcenie_pravdepodobnosti_selekcie(remapped_populacia)\n",
    "\n",
    "# Convert to cumulative probabilities\n",
    "cumulative_probabilities = []\n",
    "cumulative_sum = 0\n",
    "for individual, probability in proportional_selection:\n",
    "    cumulative_sum += probability\n",
    "    cumulative_probabilities.append((individual, cumulative_sum))\n",
    "\n",
    "# Adjust the last cumulative probability for normalization\n",
    "cumulative_probabilities[-1] = (cumulative_probabilities[-1][0], 1)\n",
    "\n",
    "# Perform Stochastic Universal Sampling to select parents\n",
    "parents = stochastic_universal_sampling(cumulative_probabilities, μ)\n",
    "\n",
    "# Print selected parents for the next generation\n",
    "print(parents)\n"
   ]
  },
  {
   "cell_type": "code",
   "execution_count": 87,
   "metadata": {},
   "outputs": [
    {
     "name": "stdout",
     "output_type": "stream",
     "text": [
      "[(1, 1.0), (0, 0.22767923611155033), (0, 0.2733235783007439), (0, 0.21845040341328095), (0, 0.4972381534890299), (0, 0.32378290616076805), (0, 0.3121212540168811), (0, 0.27770755026674737), (0, 0.45503845450164443), (0, 0.26419141426105686), (0, 0.4058213394031148), (0, 0.47548840247508506), (0, 0.3886994946111753), (0, 0.3842251686865883), (0, 0.3885312325552678), (0, 0.46238918236582194), (0, 0.3131895280352735), (0, 0.4495427597567535), (0, 0.38683622606019885), (0, 0.44758345440376107), (0, 0.32602932495637593), (0, 0.2652672965741692), (0, 0.374314572981744), (0, 0.20885334142708492), (0, 0.2071855036928773), (0, 0.301287704090305), (0, 0.35424132251539486), (0, 0.23640343924803758), (0, 0.40688513896184), (0, 0.2914330394048579), (0, 0.49826843139747645), (0, 0.2919530063237046), (0, 0.4742151122697109), (0, 0.4065082142796448), (0, 0.4787140713338406), (0, 0.4910672213491287), (0, 0.2608693377803451), (0, 0.4629379712897952), (0, 0.4911906168194428), (0, 0.2000027844950292), (0, 0.4929301153603136), (0, 0.2210488207879152), (0, 0.33012031002941933), (0, 0.44605194701359163), (0, 0.4585190545399025), (0, 0.20991580374433363), (0, 0.33265356595408946), (0, 0.40735143087520365), (0, 0.3830305021851411), (0, 0.4757043079370686), (0, 0.27919355000810553), (0, 0.4995967120410403), (0, 0.31090884266319824), (0, 0.3271141886337666), (0, 0.23196420134721749), (0, 0.47313328515349035), (0, 0.3499147063467777), (0, 0.2818168402575048), (0, 0.29506244577533497), (0, 0.44378275644715687), (0, 0.3282766961666758), (0, 0.2968768973136864), (0, 0.2334998279235438), (0, 0.46144767428771527), (0, 0.48228168594994625), (0, 0.20710624782863554), (0, 0.23368242225732108), (0, 0.4216473525786891), (0, 0.3485732470674935), (0, 0.49581392380943684), (0, 0.47710540951777997), (0, 0.20989978671863968), (0, 0.3734101285295679), (0, 0.4460640049110878), (0, 0.24958338577357106), (0, 0.4137125928654838), (0, 0.3502715755030388), (0, 0.48423208704121773), (0, 0.27946868534924874), (0, 0.2722335322458956), (0, 0.22675412250008956), (0, 0.44876951964210143), (0, 0.2706224667938024), (0, 0.29302673056173245), (0, 0.42211773953285747), (0, 0.4171509611642676), (0, 0.4740486350229496), (0, 0.20061974780611913), (0, 0.40150011966598), (0, 0.4150868634019655), (0, 0.29320888189031813), (0, 0.24130441838505443), (0, 0.46630645362848766), (0, 0.43190980084039904), (0, 0.31913334059126014), (0, 0.42087492600953447), (0, 0.46271054000843026), (0, 0.40709889972309465), (0, 0.39051898356114223), (0, 0.26272003103525204)]\n"
     ]
    }
   ],
   "source": [
    "# Experiment - jeden beh\n",
    "\n",
    "MAXPOC_SELEKCII = 2 * μ\n",
    "print(populacia)\n",
    "\n",
    "def seria_selekcii(populacia):\n",
    "    id_of_best_individual = 1  # Assuming the best individual has ID 1\n",
    "    vyber_z_populacie = populacia\n",
    "    for i in range(MAXPOC_SELEKCII):\n",
    "        remapped_populacia = exponential_fitness_remapping(vyber_z_populacie)\n",
    "        proportional_selection = urcenie_pravdepodobnosti_selekcie(remapped_populacia)\n",
    "        \n",
    "        # Convert to cumulative probabilities\n",
    "        cumulative_probabilities = []\n",
    "        cumulative_sum = 0\n",
    "        for individual, probability in proportional_selection:\n",
    "            cumulative_sum += probability\n",
    "            cumulative_probabilities.append((individual, cumulative_sum))\n",
    "        \n",
    "        # Adjust the last cumulative probability for normalization\n",
    "        if len(cumulative_probabilities) > 0 and cumulative_probabilities[-1][1] < 1:\n",
    "            cumulative_probabilities[-1] = (cumulative_probabilities[-1][0], 1)\n",
    "        \n",
    "        # Select individuals using SUS\n",
    "        selected_individual_ids = stochastic_universal_sampling(cumulative_probabilities, μ)\n",
    "        \n",
    "        # Count the occurrences of the best individual in the selected IDs\n",
    "        poc_kopii_najlepsieho = selected_individual_ids.count(id_of_best_individual)\n",
    "        \n",
    "        if poc_kopii_najlepsieho == μ:\n",
    "            return 'vyplnenie', i\n",
    "        if poc_kopii_najlepsieho == 0:\n",
    "            return 'strata', i+1\n",
    "        \n",
    "    return 'vyskyt', i+1\n"
   ]
  },
  {
   "cell_type": "code",
   "execution_count": 88,
   "metadata": {},
   "outputs": [
    {
     "name": "stdout",
     "output_type": "stream",
     "text": [
      "Pocet behov \n",
      "   so stratou najlepsieho    : 0\n",
      "   s dominanciou najlepsieho : 0\n",
      "   s vyskytom najlepsieho    : 1000\n"
     ]
    }
   ],
   "source": [
    "# Experiment - opakovane sekvencie selekcii\n",
    "\n",
    "OPAKOVANIA = 1000\n",
    "\n",
    "vysledky = [seria_selekcii(populacia) for _ in range(OPAKOVANIA)]\n",
    "\n",
    "print(\n",
    "    f\"Pocet behov \"\n",
    "    f\"\\n   so stratou najlepsieho    : {len(list(filter(lambda x: x[0] == 'strata', vysledky)))}\"\n",
    "    f\"\\n   s dominanciou najlepsieho : {len(list(filter(lambda x: x[0] == 'vyplnenie', vysledky)))}\"\n",
    "    f\"\\n   s vyskytom najlepsieho    : {len(list(filter(lambda x: x[0] == 'vyskyt', vysledky)))}\"\n",
    ")\n",
    "\n",
    "vyplnenia = list(map(lambda x: x[1], (filter(lambda x: x[0] == 'vyplnenie', vysledky))))\n",
    "if vyplnenia != []:\n",
    "    print(f\"Pri dominancii najlepsi dominoval priemerne v {reduce(add,vyplnenia)/len(vyplnenia)}. iteracii\")"
   ]
  },
  {
   "cell_type": "code",
   "execution_count": null,
   "metadata": {},
   "outputs": [],
   "source": []
  },
  {
   "cell_type": "code",
   "execution_count": null,
   "metadata": {},
   "outputs": [],
   "source": []
  },
  {
   "cell_type": "code",
   "execution_count": null,
   "metadata": {},
   "outputs": [],
   "source": []
  }
 ],
 "metadata": {
  "kernel_info": {
   "name": "python"
  },
  "kernelspec": {
   "display_name": "Python 3 (ipykernel)",
   "language": "python",
   "name": "python3"
  },
  "language_info": {
   "codemirror_mode": {
    "name": "ipython",
    "version": 3
   },
   "file_extension": ".py",
   "mimetype": "text/x-python",
   "name": "python",
   "nbconvert_exporter": "python",
   "pygments_lexer": "ipython3",
   "version": "3.10.12"
  },
  "nteract": {
   "version": "nteract-front-end@1.0.0"
  }
 },
 "nbformat": 4,
 "nbformat_minor": 4
}
