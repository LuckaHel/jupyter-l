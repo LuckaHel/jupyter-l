{
 "cells": [
  {
   "cell_type": "code",
   "execution_count": 20,
   "id": "dc66ceb6-5186-47a0-a446-2633902624ba",
   "metadata": {},
   "outputs": [],
   "source": [
    "import numpy as np\n",
    "import matplotlib.pyplot as plt\n"
   ]
  },
  {
   "cell_type": "code",
   "execution_count": 21,
   "id": "60179678-1de4-4c6a-92b3-031d64711ff4",
   "metadata": {},
   "outputs": [],
   "source": [
    "# initialize 2 parents as vectors of real numbers with 100 dimensions\n",
    "def initialize_parents(size=100):\n",
    "    parent1 = np.random.uniform(-10, 10, size)\n",
    "    parent2 = np.random.uniform(-10, 10, size)\n",
    "    return parent1, parent2\n",
    "    \n",
    "#calculate each child, where alpha is parameter representing the value of perturbation vector\n",
    "def arithmetic_crossover(parent1, parent2, alpha):\n",
    "    # Alpha influences the mix of genes from each parent\n",
    "    return alpha * parent1 + (0.97 - alpha) * parent2\n"
   ]
  },
  {
   "cell_type": "code",
   "execution_count": 22,
   "id": "d22dbabe-f6b4-4ef2-a74f-9d7433bc7581",
   "metadata": {},
   "outputs": [],
   "source": [
    "def generate_children(parent1, parent2, alpha, num_children=200):\n",
    "    children = []\n",
    "    for _ in range(num_children):\n",
    "        child = arithmetic_crossover(parent1, parent2, alpha)\n",
    "        children.append(child)\n",
    "    return np.array(children)\n"
   ]
  },
  {
   "cell_type": "code",
   "execution_count": 23,
   "id": "79dc2df7-080c-4c7c-aa30-efcaf4ce0950",
   "metadata": {},
   "outputs": [],
   "source": [
    "def calculate_distances(children, parent1, parent2):\n",
    "    distances_parent1 = np.linalg.norm(children - parent1, axis=1)\n",
    "    distances_parent2 = np.linalg.norm(children - parent2, axis=1)\n",
    "    return distances_parent1, distances_parent2\n"
   ]
  },
  {
   "cell_type": "code",
   "execution_count": 24,
   "id": "ea813ad7-f70c-4d4e-b1d9-735f15cac0cd",
   "metadata": {},
   "outputs": [],
   "source": [
    "def random_selection(children):\n",
    "    selected_indices = np.random.choice(np.arange(len(children)), size=len(children), replace=True)\n",
    "    return children[selected_indices]\n",
    "\n",
    "def min_max_avg_distances(distances_parent1, distances_parent2):\n",
    "    min_distance = min(np.min(distances_parent1), np.min(distances_parent2))\n",
    "    max_distance = max(np.max(distances_parent1), np.max(distances_parent2))\n",
    "    avg_distance = np.mean(np.concatenate((distances_parent1, distances_parent2)))\n",
    "    return min_distance, max_distance, avg_distance\n",
    "\n"
   ]
  },
  {
   "cell_type": "code",
   "execution_count": 25,
   "id": "84878ed4-592c-4063-95c5-af1afbcee462",
   "metadata": {},
   "outputs": [],
   "source": [
    "def plot_grouped_bar_chart(parameters, min_distances, max_distances, avg_distances):\n",
    "    # Set up the bar chart parameters\n",
    "    n_groups = len(parameters)\n",
    "    fig, ax = plt.subplots()\n",
    "    index = np.arange(n_groups)\n",
    "    bar_width = 0.2\n",
    "    opacity = 0.8\n",
    "\n",
    "    # Create bars for min, max, and average distances\n",
    "    bars_min = ax.bar(index, min_distances, bar_width,\n",
    "                      alpha=opacity, color='lightskyblue', label='Min')\n",
    "\n",
    "    bars_max = ax.bar(index + bar_width, max_distances, bar_width,\n",
    "                      alpha=opacity, color='lightcoral', label='Max')\n",
    "\n",
    "    bars_avg = ax.bar(index + 2 * bar_width, avg_distances, bar_width,\n",
    "                      alpha=opacity, color='palegreen', label='Avg')\n",
    "\n",
    "    # Add labels, title, and legend\n",
    "    ax.set_xlabel('Crossover Parameter')\n",
    "    ax.set_ylabel('Distances')\n",
    "    ax.set_title('Distances by Crossover Parameter')\n",
    "    ax.set_xticks(index + bar_width)\n",
    "    ax.set_xticklabels(parameters)\n",
    "    ax.legend()\n",
    "\n",
    "    # Display the chart\n",
    "    fig.tight_layout()\n",
    "    plt.show()"
   ]
  },
  {
   "cell_type": "code",
   "execution_count": 26,
   "id": "92a3e813-4c4f-48b0-9490-2ed720d22bc3",
   "metadata": {},
   "outputs": [
    {
     "data": {
      "image/png": "[encoded data removed]",
      "text/plain": [
       "<Figure size 640x480 with 1 Axes>"
      ]
     },
     "metadata": {},
     "output_type": "display_data"
    }
   ],
   "source": [
    "    parent1, parent2 = initialize_parents()\n",
    "    parameters = [0.2, 0.4, 0.6, 0.8, 1.0]  #alpha values\n",
    "    min_distances, max_distances, avg_distances = [], [], []\n",
    "\n",
    "    for alpha in parameters:\n",
    "        children = generate_children(parent1, parent2, alpha)\n",
    "\n",
    "        distances_parent1, distances_parent2 = calculate_distances(children, parent1, parent2)\n",
    "\n",
    "        selected_children = random_selection(children)\n",
    "        \n",
    "        distances_parent1_selected, distances_parent2_selected = calculate_distances(selected_children, parent1,\n",
    "                                                                                     parent2)\n",
    "\n",
    "        # Calculating min, max, and average distances after selection\n",
    "        min_distance = min(np.min(distances_parent1_selected), np.min(distances_parent2_selected))\n",
    "        max_distance = max(np.max(distances_parent1_selected), np.max(distances_parent2_selected))\n",
    "        avg_distance = np.mean((distances_parent1_selected + distances_parent2_selected) / 2)\n",
    "\n",
    "        min_distances.append(min_distance)\n",
    "        max_distances.append(max_distance)\n",
    "        avg_distances.append(avg_distance)\n",
    "\n",
    "    plot_grouped_bar_chart(parameters, min_distances, max_distances, avg_distances)\n"
   ]
  },
  {
   "cell_type": "code",
   "execution_count": null,
   "id": "29da7035-11dc-4c2e-ab28-2e0159d89741",
   "metadata": {},
   "outputs": [],
   "source": []
  }
 ],
 "metadata": {
  "kernelspec": {
   "display_name": "Python 3 (ipykernel)",
   "language": "python",
   "name": "python3"
  },
  "language_info": {
   "codemirror_mode": {
    "name": "ipython",
    "version": 3
   },
   "file_extension": ".py",
   "mimetype": "text/x-python",
   "name": "python",
   "nbconvert_exporter": "python",
   "pygments_lexer": "ipython3",
   "version": "3.10.12"
  }
 },
 "nbformat": 4,
 "nbformat_minor": 5
}
