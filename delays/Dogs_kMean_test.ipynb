{
 "cells": [
  {
   "cell_type": "code",
   "execution_count": 29,
   "id": "7d3e99f3-52ec-4d56-812b-7bffe4aa5343",
   "metadata": {},
   "outputs": [],
   "source": [
    "import os\n",
    "from pyspark.sql.types import StructType, StructField, IntegerType, StringType, FloatType, DoubleType, TimestampType\n",
    "from pyspark.sql.functions import col, to_date, concat, lit\n",
    "os.environ[\"SPARK_HOME\"] = \"/home/mate/.local/lib/python3.10/site-packages/pyspark/\"\n",
    "os.environ[\"PYSPARK_DRIVER_PYTHON\"] = \"jupyter\"\n",
    "os.environ[\"PYSPARK_DRIVER_PYTHON_OPTS\"] = \"notebook\"\n"
   ]
  },
  {
   "cell_type": "code",
   "execution_count": 30,
   "id": "95920f8f-2df3-4f50-8928-f514d738c647",
   "metadata": {},
   "outputs": [],
   "source": [
    "from pyspark.sql import SparkSession\n",
    "\n",
    "spark = SparkSession.builder \\\n",
    "    .master(\"local\") \\\n",
    "    .appName(\"My Dogs Application\") \\\n",
    "    .getOrCreate()\n"
   ]
  },
  {
   "cell_type": "code",
   "execution_count": 31,
   "id": "282db69e-3e94-4583-8e66-247004b4e24e",
   "metadata": {},
   "outputs": [],
   "source": [
    "from pyspark.sql.functions import col, dayofweek,to_date, month, count, avg, round\n",
    "from pyspark.sql import Window\n",
    "from pyspark.sql.functions import row_number,   sum, when\n",
    "\n",
    "\n",
    "# Load the CSV file into a DataFrame\n",
    "csv_file_path_dogs = \"./Dog_Info_Modified_Sprint_v2.csv\"  # Replace with the path to your CSV file\n",
    "\n",
    "df_dogs = spark.read.option(\"delimiter\", \",\").option(\"header\", \"true\").csv(csv_file_path_dogs)"
   ]
  },
  {
   "cell_type": "code",
   "execution_count": 32,
   "id": "689e6e2a-8124-490b-9f9c-81b9b9885c28",
   "metadata": {},
   "outputs": [],
   "source": [
    "df = df_dogs"
   ]
  },
  {
   "cell_type": "code",
   "execution_count": 33,
   "id": "6674e37c-9c35-444d-a03a-6f2a8c52c88e",
   "metadata": {},
   "outputs": [
    {
     "name": "stdout",
     "output_type": "stream",
     "text": [
      "+-------+----------------+--------------+------------+------+\n",
      "|   NAME|            RACE|WAS_VACCINATED|SPRINT_SPEED|WEIGHT|\n",
      "+-------+----------------+--------------+------------+------+\n",
      "|  Bella|        Labrador|           Yes|        22.7| 27.13|\n",
      "|    Max|          Beagle|            No|        22.7|  9.31|\n",
      "|Charlie|           Boxer|           Yes|       17.72| 30.24|\n",
      "|   Luna|          Poodle|            No|        22.7| 27.62|\n",
      "|   Lucy|         Bulldog|           Yes|       22.74| 22.83|\n",
      "| Cooper|       Dachshund|            No|        29.0|  6.48|\n",
      "|   Milo| German Shepherd|           Yes|       17.86|  41.9|\n",
      "| Bailey|Golden Retriever|            No|       18.64| 33.84|\n",
      "|  Daisy|       Chihuahua|           Yes|       30.23|  0.65|\n",
      "|  Sadie|             Pug|            No|       23.97| 10.71|\n",
      "|   Lola|        Labrador|           Yes|       23.93| 22.33|\n",
      "| Tucker|          Beagle|            No|       29.23|  7.67|\n",
      "|  Buddy|           Boxer|           Yes|       18.16| 28.21|\n",
      "|  Molly|          Poodle|            No|       23.74| 10.43|\n",
      "| Stella|         Bulldog|           Yes|       22.77| 15.38|\n",
      "| Harley|       Dachshund|            No|        27.7|  4.84|\n",
      "| Maggie| German Shepherd|           Yes|       17.93| 28.94|\n",
      "|   Bear|Golden Retriever|            No|        17.7| 31.57|\n",
      "| Marley|       Chihuahua|           Yes|        27.7| -1.54|\n",
      "|   Ruby|             Pug|            No|       27.91|  0.94|\n",
      "+-------+----------------+--------------+------------+------+\n",
      "only showing top 20 rows\n",
      "\n",
      "root\n",
      " |-- NAME: string (nullable = true)\n",
      " |-- RACE: string (nullable = true)\n",
      " |-- WAS_VACCINATED: string (nullable = true)\n",
      " |-- SPRINT_SPEED: double (nullable = true)\n",
      " |-- WEIGHT: double (nullable = true)\n",
      "\n"
     ]
    }
   ],
   "source": [
    "df = df.withColumn(\"SPRINT_SPEED\", round(df[\"SPRINT_SPEED\"], 2))\n",
    "df = df.withColumn(\"WEIGHT\", round(df[\"WEIGHT\"], 2))\n",
    "\n",
    "df.show()\n",
    "df.printSchema()"
   ]
  },
  {
   "cell_type": "code",
   "execution_count": 34,
   "id": "c41b500c-db0b-42b0-af57-294ae290870a",
   "metadata": {},
   "outputs": [],
   "source": [
    "from pyspark.ml.feature import VectorAssembler, StandardScaler, OneHotEncoder, StringIndexer\n",
    "from pyspark.ml import Pipeline\n",
    "\n",
    "# Indexing and encoding categorical columns\n",
    "race_indexer = StringIndexer(inputCol=\"RACE\", outputCol=\"RACE_Index\")\n",
    "race_encoder = OneHotEncoder(inputCol=\"RACE_Index\", outputCol=\"RACE_Encoded\")\n",
    "vaccinated_indexer = StringIndexer(inputCol=\"WAS_VACCINATED\", outputCol=\"VACCINATED_Index\")\n",
    "\n",
    "# Assembling features into a single vector\n",
    "assembler = VectorAssembler(inputCols=[\"RACE_Encoded\", \"VACCINATED_Index\", \"SPRINT_SPEED\", \"WEIGHT\"], outputCol=\"features\")\n",
    "\n",
    "# Scaling the features\n",
    "scaler = StandardScaler(inputCol=\"features\", outputCol=\"scaledFeatures\")\n",
    "\n",
    "# Pipeline\n",
    "pipeline = Pipeline(stages=[race_indexer, race_encoder, vaccinated_indexer, assembler, scaler])\n",
    "model = pipeline.fit(df)\n",
    "transformed_df = model.transform(df)"
   ]
  },
  {
   "cell_type": "code",
   "execution_count": 35,
   "id": "83831cf6-da68-47d9-b4b5-5457937b131a",
   "metadata": {},
   "outputs": [
    {
     "name": "stdout",
     "output_type": "stream",
     "text": [
      "+-------+----------------+--------------+------------+------+----------+-------------+----------------+--------------------+--------------------+\n",
      "|   NAME|            RACE|WAS_VACCINATED|SPRINT_SPEED|WEIGHT|RACE_Index| RACE_Encoded|VACCINATED_Index|            features|      scaledFeatures|\n",
      "+-------+----------------+--------------+------------+------+----------+-------------+----------------+--------------------+--------------------+\n",
      "|  Bella|        Labrador|           Yes|        22.7| 27.13|       7.0|(9,[7],[1.0])|             1.0|(12,[7,9,10,11],[...|(12,[7,9,10,11],[...|\n",
      "|    Max|          Beagle|            No|        22.7|  9.31|       0.0|(9,[0],[1.0])|             0.0|(12,[0,10,11],[1....|(12,[0,10,11],[3....|\n",
      "|Charlie|           Boxer|           Yes|       17.72| 30.24|       1.0|(9,[1],[1.0])|             1.0|(12,[1,9,10,11],[...|(12,[1,9,10,11],[...|\n",
      "|   Luna|          Poodle|            No|        22.7| 27.62|       8.0|(9,[8],[1.0])|             0.0|(12,[8,10,11],[1....|(12,[8,10,11],[3....|\n",
      "|   Lucy|         Bulldog|           Yes|       22.74| 22.83|       2.0|(9,[2],[1.0])|             1.0|(12,[2,9,10,11],[...|(12,[2,9,10,11],[...|\n",
      "| Cooper|       Dachshund|            No|        29.0|  6.48|       4.0|(9,[4],[1.0])|             0.0|(12,[4,10,11],[1....|(12,[4,10,11],[3....|\n",
      "|   Milo| German Shepherd|           Yes|       17.86|  41.9|       5.0|(9,[5],[1.0])|             1.0|(12,[5,9,10,11],[...|(12,[5,9,10,11],[...|\n",
      "| Bailey|Golden Retriever|            No|       18.64| 33.84|       6.0|(9,[6],[1.0])|             0.0|(12,[6,10,11],[1....|(12,[6,10,11],[3....|\n",
      "|  Daisy|       Chihuahua|           Yes|       30.23|  0.65|       3.0|(9,[3],[1.0])|             1.0|(12,[3,9,10,11],[...|(12,[3,9,10,11],[...|\n",
      "|  Sadie|             Pug|            No|       23.97| 10.71|       9.0|    (9,[],[])|             0.0|(12,[10,11],[23.9...|(12,[10,11],[6.25...|\n",
      "|   Lola|        Labrador|           Yes|       23.93| 22.33|       7.0|(9,[7],[1.0])|             1.0|(12,[7,9,10,11],[...|(12,[7,9,10,11],[...|\n",
      "| Tucker|          Beagle|            No|       29.23|  7.67|       0.0|(9,[0],[1.0])|             0.0|(12,[0,10,11],[1....|(12,[0,10,11],[3....|\n",
      "|  Buddy|           Boxer|           Yes|       18.16| 28.21|       1.0|(9,[1],[1.0])|             1.0|(12,[1,9,10,11],[...|(12,[1,9,10,11],[...|\n",
      "|  Molly|          Poodle|            No|       23.74| 10.43|       8.0|(9,[8],[1.0])|             0.0|(12,[8,10,11],[1....|(12,[8,10,11],[3....|\n",
      "| Stella|         Bulldog|           Yes|       22.77| 15.38|       2.0|(9,[2],[1.0])|             1.0|(12,[2,9,10,11],[...|(12,[2,9,10,11],[...|\n",
      "| Harley|       Dachshund|            No|        27.7|  4.84|       4.0|(9,[4],[1.0])|             0.0|(12,[4,10,11],[1....|(12,[4,10,11],[3....|\n",
      "| Maggie| German Shepherd|           Yes|       17.93| 28.94|       5.0|(9,[5],[1.0])|             1.0|(12,[5,9,10,11],[...|(12,[5,9,10,11],[...|\n",
      "|   Bear|Golden Retriever|            No|        17.7| 31.57|       6.0|(9,[6],[1.0])|             0.0|(12,[6,10,11],[1....|(12,[6,10,11],[3....|\n",
      "| Marley|       Chihuahua|           Yes|        27.7| -1.54|       3.0|(9,[3],[1.0])|             1.0|(12,[3,9,10,11],[...|(12,[3,9,10,11],[...|\n",
      "|   Ruby|             Pug|            No|       27.91|  0.94|       9.0|    (9,[],[])|             0.0|(12,[10,11],[27.9...|(12,[10,11],[7.28...|\n",
      "+-------+----------------+--------------+------------+------+----------+-------------+----------------+--------------------+--------------------+\n",
      "only showing top 20 rows\n",
      "\n"
     ]
    }
   ],
   "source": [
    "transformed_df.show()"
   ]
  },
  {
   "cell_type": "code",
   "execution_count": 36,
   "id": "a533a0c1-cf5d-4445-8050-a494aa0825f7",
   "metadata": {},
   "outputs": [
    {
     "name": "stdout",
     "output_type": "stream",
     "text": [
      "+-------+----------------+--------------+------------+------+----------+-------------+----------------+--------------------+--------------------+----------+\n",
      "|   NAME|            RACE|WAS_VACCINATED|SPRINT_SPEED|WEIGHT|RACE_Index| RACE_Encoded|VACCINATED_Index|            features|      scaledFeatures|prediction|\n",
      "+-------+----------------+--------------+------------+------+----------+-------------+----------------+--------------------+--------------------+----------+\n",
      "|  Bella|        Labrador|           Yes|        22.7| 27.13|       7.0|(9,[7],[1.0])|             1.0|(12,[7,9,10,11],[...|(12,[7,9,10,11],[...|         0|\n",
      "|    Max|          Beagle|            No|        22.7|  9.31|       0.0|(9,[0],[1.0])|             0.0|(12,[0,10,11],[1....|(12,[0,10,11],[3....|         2|\n",
      "|Charlie|           Boxer|           Yes|       17.72| 30.24|       1.0|(9,[1],[1.0])|             1.0|(12,[1,9,10,11],[...|(12,[1,9,10,11],[...|         0|\n",
      "|   Luna|          Poodle|            No|        22.7| 27.62|       8.0|(9,[8],[1.0])|             0.0|(12,[8,10,11],[1....|(12,[8,10,11],[3....|         0|\n",
      "|   Lucy|         Bulldog|           Yes|       22.74| 22.83|       2.0|(9,[2],[1.0])|             1.0|(12,[2,9,10,11],[...|(12,[2,9,10,11],[...|         0|\n",
      "| Cooper|       Dachshund|            No|        29.0|  6.48|       4.0|(9,[4],[1.0])|             0.0|(12,[4,10,11],[1....|(12,[4,10,11],[3....|         1|\n",
      "|   Milo| German Shepherd|           Yes|       17.86|  41.9|       5.0|(9,[5],[1.0])|             1.0|(12,[5,9,10,11],[...|(12,[5,9,10,11],[...|         0|\n",
      "| Bailey|Golden Retriever|            No|       18.64| 33.84|       6.0|(9,[6],[1.0])|             0.0|(12,[6,10,11],[1....|(12,[6,10,11],[3....|         0|\n",
      "|  Daisy|       Chihuahua|           Yes|       30.23|  0.65|       3.0|(9,[3],[1.0])|             1.0|(12,[3,9,10,11],[...|(12,[3,9,10,11],[...|         1|\n",
      "|  Sadie|             Pug|            No|       23.97| 10.71|       9.0|    (9,[],[])|             0.0|(12,[10,11],[23.9...|(12,[10,11],[6.25...|         2|\n",
      "|   Lola|        Labrador|           Yes|       23.93| 22.33|       7.0|(9,[7],[1.0])|             1.0|(12,[7,9,10,11],[...|(12,[7,9,10,11],[...|         0|\n",
      "| Tucker|          Beagle|            No|       29.23|  7.67|       0.0|(9,[0],[1.0])|             0.0|(12,[0,10,11],[1....|(12,[0,10,11],[3....|         1|\n",
      "|  Buddy|           Boxer|           Yes|       18.16| 28.21|       1.0|(9,[1],[1.0])|             1.0|(12,[1,9,10,11],[...|(12,[1,9,10,11],[...|         0|\n",
      "|  Molly|          Poodle|            No|       23.74| 10.43|       8.0|(9,[8],[1.0])|             0.0|(12,[8,10,11],[1....|(12,[8,10,11],[3....|         2|\n",
      "| Stella|         Bulldog|           Yes|       22.77| 15.38|       2.0|(9,[2],[1.0])|             1.0|(12,[2,9,10,11],[...|(12,[2,9,10,11],[...|         2|\n",
      "| Harley|       Dachshund|            No|        27.7|  4.84|       4.0|(9,[4],[1.0])|             0.0|(12,[4,10,11],[1....|(12,[4,10,11],[3....|         1|\n",
      "| Maggie| German Shepherd|           Yes|       17.93| 28.94|       5.0|(9,[5],[1.0])|             1.0|(12,[5,9,10,11],[...|(12,[5,9,10,11],[...|         0|\n",
      "|   Bear|Golden Retriever|            No|        17.7| 31.57|       6.0|(9,[6],[1.0])|             0.0|(12,[6,10,11],[1....|(12,[6,10,11],[3....|         0|\n",
      "| Marley|       Chihuahua|           Yes|        27.7| -1.54|       3.0|(9,[3],[1.0])|             1.0|(12,[3,9,10,11],[...|(12,[3,9,10,11],[...|         1|\n",
      "|   Ruby|             Pug|            No|       27.91|  0.94|       9.0|    (9,[],[])|             0.0|(12,[10,11],[27.9...|(12,[10,11],[7.28...|         1|\n",
      "+-------+----------------+--------------+------------+------+----------+-------------+----------------+--------------------+--------------------+----------+\n",
      "only showing top 20 rows\n",
      "\n",
      "[array([ 0.        ,  0.21052632,  0.15789474,  0.        ,  0.        ,\n",
      "        0.21052632,  0.15789474,  0.21052632,  0.05263158,  0.78947368,\n",
      "       20.39473684, 28.79263158]), array([ 0.1  ,  0.   ,  0.   ,  0.4  ,  0.3  ,  0.   ,  0.   ,  0.   ,\n",
      "        0.   ,  0.4  , 28.571,  2.349]), array([ 0.27272727,  0.        ,  0.09090909,  0.        ,  0.09090909,\n",
      "        0.        ,  0.09090909,  0.        ,  0.27272727,  0.09090909,\n",
      "       23.15727273, 12.63      ])]\n",
      "[19, 10, 11]\n"
     ]
    }
   ],
   "source": [
    "from pyspark.ml.clustering import KMeans\n",
    "from pyspark.sql import SparkSession\n",
    "from pyspark.sql.functions import col\n",
    "from pyspark.sql.types import DoubleType, FloatType\n",
    "from pyspark.ml.linalg import VectorUDT, DenseVector\n",
    "from pyspark.sql.functions import udf\n",
    "from pyspark.sql.types import DoubleType\n",
    "from pyspark.ml.linalg import Vectors\n",
    "from pyspark.sql.functions import sqrt, pow, col\n",
    "\n",
    "\n",
    "from pyspark.ml.clustering import KMeans\n",
    "kmeans = KMeans(k=3)\n",
    "model = kmeans.fit(transformed_df)\n",
    "model.summary.predictions.show()\n",
    "\n",
    "\n",
    "print(model.clusterCenters())\n",
    "\n",
    "\n",
    "print(model.summary.clusterSizes)"
   ]
  },
  {
   "cell_type": "code",
   "execution_count": null,
   "id": "9a62f0dc-b0e0-4be4-954b-c848000212f0",
   "metadata": {},
   "outputs": [],
   "source": []
  }
 ],
 "metadata": {
  "kernelspec": {
   "display_name": "Python 3 (ipykernel)",
   "language": "python",
   "name": "python3"
  },
  "language_info": {
   "codemirror_mode": {
    "name": "ipython",
    "version": 3
   },
   "file_extension": ".py",
   "mimetype": "text/x-python",
   "name": "python",
   "nbconvert_exporter": "python",
   "pygments_lexer": "ipython3",
   "version": "3.10.12"
  }
 },
 "nbformat": 4,
 "nbformat_minor": 5
}
