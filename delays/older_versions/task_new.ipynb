{
 "cells": [
  {
   "cell_type": "code",
   "execution_count": 18,
   "id": "118939be-42d4-4a27-b4df-758358c8e4f4",
   "metadata": {
    "collapsed": true,
    "jupyter": {
     "outputs_hidden": true
    }
   },
   "outputs": [],
   "source": [
    "import os\n",
    "from pyspark.sql.types import StructType, StructField, IntegerType, StringType, FloatType, DoubleType, TimestampType\n",
    "from pyspark.sql.functions import col, to_date, concat, lit\n",
    "os.environ[\"SPARK_HOME\"] = \"/home/mate/.local/lib/python3.10/site-packages/pyspark/\"\n",
    "os.environ[\"PYSPARK_DRIVER_PYTHON\"] = \"jupyter\"\n",
    "os.environ[\"PYSPARK_DRIVER_PYTHON_OPTS\"] = \"notebook\"\n"
   ]
  },
  {
   "cell_type": "code",
   "execution_count": 19,
   "id": "628aa5bc-3116-432b-836b-b7180bf82f27",
   "metadata": {
    "collapsed": true,
    "jupyter": {
     "outputs_hidden": true
    }
   },
   "outputs": [],
   "source": [
    "from pyspark.sql import SparkSession\n",
    "\n",
    "spark = SparkSession.builder \\\n",
    "    .master(\"local\") \\\n",
    "    .appName(\"My Spark Application\") \\\n",
    "    .getOrCreate()\n"
   ]
  },
  {
   "cell_type": "code",
   "execution_count": 20,
   "id": "109dc1f4-2b67-4b28-9e07-abced251b380",
   "metadata": {
    "collapsed": true,
    "jupyter": {
     "outputs_hidden": true
    }
   },
   "outputs": [
    {
     "name": "stdout",
     "output_type": "stream",
     "text": [
      "+---+-----+\n",
      "| ID|Value|\n",
      "+---+-----+\n",
      "|  1|  foo|\n",
      "|  2|  bar|\n",
      "+---+-----+\n",
      "\n"
     ]
    }
   ],
   "source": [
    "# Example: Creating a DataFrame and showing its content\n",
    "df = spark.createDataFrame([(1, 'foo'), (2, 'bar')], [\"ID\", \"Value\"])\n",
    "df.show()\n"
   ]
  },
  {
   "cell_type": "code",
   "execution_count": 21,
   "id": "01556bb0-76d9-41a3-8586-e6275b034fbb",
   "metadata": {
    "collapsed": true,
    "jupyter": {
     "outputs_hidden": true
    }
   },
   "outputs": [],
   "source": [
    "from pyspark.sql.functions import col, dayofweek,to_date, month, count, avg\n",
    "from pyspark.sql import Window\n",
    "from pyspark.sql.functions import row_number,   sum, when\n",
    "\n",
    "\n",
    "# Load the CSV file into a DataFrame\n",
    "csv_file_path_flightdelay = \"./full_data_flightdelay.csv\"  # Replace with the path to your CSV file\n",
    "\n",
    "\n",
    "df_flightdelay = spark.read.option(\"delimiter\", \",\").option(\"header\", \"true\").csv(csv_file_path_flightdelay)\n",
    "\n",
    "\n",
    "# Read the CSV file using the manually defined schema\n",
    "csv_file_path_weather = \"./airport_weather_2019.csv\"  # Replace with your file path\n",
    "df_weather = spark.read.option(\"delimiter\", \",\").option(\"header\", \"true\").csv(csv_file_path_weather)\n"
   ]
  },
  {
   "cell_type": "code",
   "execution_count": 72,
   "id": "732665d3-25c2-4aef-ae35-3e781e98ec7d",
   "metadata": {
    "collapsed": true,
    "jupyter": {
     "outputs_hidden": true
    }
   },
   "outputs": [
    {
     "name": "stdout",
     "output_type": "stream",
     "text": [
      "root\n",
      " |-- _c0: string (nullable = true)\n",
      " |-- DAY_OF_WEEK: string (nullable = true)\n",
      " |-- DEP_DEL15: string (nullable = true)\n",
      " |-- DEP_TIME_BLK: string (nullable = true)\n",
      " |-- DISTANCE_GROUP: string (nullable = true)\n",
      " |-- SEGMENT_NUMBER: string (nullable = true)\n",
      " |-- CONCURRENT_FLIGHTS: string (nullable = true)\n",
      " |-- NUMBER_OF_SEATS: string (nullable = true)\n",
      " |-- CARRIER_NAME: string (nullable = true)\n",
      " |-- AIRPORT_FLIGHTS_MONTH: string (nullable = true)\n",
      " |-- AIRLINE_FLIGHTS_MONTH: string (nullable = true)\n",
      " |-- AIRLINE_AIRPORT_FLIGHTS_MONTH: string (nullable = true)\n",
      " |-- AVG_MONTHLY_PASS_AIRPORT: string (nullable = true)\n",
      " |-- AVG_MONTHLY_PASS_AIRLINE: string (nullable = true)\n",
      " |-- FLT_ATTENDANTS_PER_PASS: string (nullable = true)\n",
      " |-- GROUND_SERV_PER_PASS: string (nullable = true)\n",
      " |-- PLANE_AGE: string (nullable = true)\n",
      " |-- DEPARTING_AIRPORT: string (nullable = true)\n",
      " |-- LATITUDE: string (nullable = true)\n",
      " |-- LONGITUDE: string (nullable = true)\n",
      " |-- PREVIOUS_AIRPORT: string (nullable = true)\n",
      " |-- normalized_name: string (nullable = true)\n",
      " |-- MONTH: integer (nullable = true)\n",
      "\n",
      "root\n",
      " |-- STATION: string (nullable = true)\n",
      " |-- NAME: string (nullable = true)\n",
      " |-- DATE: string (nullable = true)\n",
      " |-- AWND: string (nullable = true)\n",
      " |-- PGTM: string (nullable = true)\n",
      " |-- PRCP: string (nullable = true)\n",
      " |-- SNOW: string (nullable = true)\n",
      " |-- SNWD: string (nullable = true)\n",
      " |-- TAVG: string (nullable = true)\n",
      " |-- TMAX: string (nullable = true)\n",
      " |-- TMIN: string (nullable = true)\n",
      " |-- WDF2: string (nullable = true)\n",
      " |-- WDF5: string (nullable = true)\n",
      " |-- WSF2: string (nullable = true)\n",
      " |-- WSF5: string (nullable = true)\n",
      " |-- WT01: string (nullable = true)\n",
      " |-- WT02: string (nullable = true)\n",
      " |-- WT03: string (nullable = true)\n",
      " |-- WT04: string (nullable = true)\n",
      " |-- WT05: string (nullable = true)\n",
      " |-- WT06: string (nullable = true)\n",
      " |-- WT07: string (nullable = true)\n",
      " |-- WT08: string (nullable = true)\n",
      " |-- WT09: string (nullable = true)\n",
      " |-- WESD: string (nullable = true)\n",
      " |-- WT10: string (nullable = true)\n",
      " |-- PSUN: string (nullable = true)\n",
      " |-- TSUN: string (nullable = true)\n",
      " |-- SN32: string (nullable = true)\n",
      " |-- SX32: string (nullable = true)\n",
      " |-- TOBS: string (nullable = true)\n",
      " |-- WT11: string (nullable = true)\n",
      "\n"
     ]
    }
   ],
   "source": [
    "df_flightdelay.printSchema()\n",
    "df_weather.printSchema()"
   ]
  },
  {
   "cell_type": "code",
   "execution_count": 76,
   "id": "9a72d6d2-3a08-42cc-bf3a-3873f8da5ae7",
   "metadata": {
    "collapsed": true,
    "jupyter": {
     "outputs_hidden": true
    }
   },
   "outputs": [
    {
     "name": "stdout",
     "output_type": "stream",
     "text": [
      "Unique airports in weather:\n"
     ]
    },
    {
     "data": {
      "text/plain": [
       "106"
      ]
     },
     "execution_count": 76,
     "metadata": {},
     "output_type": "execute_result"
    }
   ],
   "source": [
    "print(\"Unique airports in weather:\")\n",
    "df_weather.select('NAME').distinct().count()"
   ]
  },
  {
   "cell_type": "code",
   "execution_count": 78,
   "id": "434b315c-46ca-4001-b28c-6b80376827b9",
   "metadata": {
    "collapsed": true,
    "jupyter": {
     "outputs_hidden": true
    }
   },
   "outputs": [
    {
     "name": "stdout",
     "output_type": "stream",
     "text": [
      "Unique airports in delays:\n"
     ]
    },
    {
     "name": "stderr",
     "output_type": "stream",
     "text": [
      "[Stage 323:==================================================>     (9 + 1) / 10]\r"
     ]
    },
    {
     "name": "stdout",
     "output_type": "stream",
     "text": [
      "+--------------------+\n",
      "|   DEPARTING_AIRPORT|\n",
      "+--------------------+\n",
      "|     Eppley Airfield|\n",
      "|     Kahului Airport|\n",
      "|Greater Buffalo I...|\n",
      "|Sacramento Intern...|\n",
      "|Chicago O'Hare In...|\n",
      "|   Will Rogers World|\n",
      "|Raleigh-Durham In...|\n",
      "|Minneapolis-St Pa...|\n",
      "|Metropolitan Oakl...|\n",
      "|Southwest Florida...|\n",
      "|Long Beach Daughe...|\n",
      "|  Birmingham Airport|\n",
      "|San Antonio Inter...|\n",
      "|Cincinnati/Northe...|\n",
      "|           LaGuardia|\n",
      "|Savannah/Hilton H...|\n",
      "|     William P Hobby|\n",
      "|Philadelphia Inte...|\n",
      "| Miami International|\n",
      "|        McGhee Tyson|\n",
      "|Anchorage Interna...|\n",
      "|             Keahole|\n",
      "|San Diego Interna...|\n",
      "|John F. Kennedy I...|\n",
      "|Theodore Francis ...|\n",
      "|    Standiford Field|\n",
      "|Honolulu Internat...|\n",
      "|Port Columbus Int...|\n",
      "|Los Angeles Inter...|\n",
      "|Austin - Bergstro...|\n",
      "|Newark Liberty In...|\n",
      "|Dallas Fort Worth...|\n",
      "|Tucson International|\n",
      "|El Paso Internati...|\n",
      "|Puerto Rico Inter...|\n",
      "|Hollywood-Burbank...|\n",
      "|       Lihue Airport|\n",
      "|Kansas City Inter...|\n",
      "|Orlando Internati...|\n",
      "|Lambert-St. Louis...|\n",
      "| Logan International|\n",
      "|Portland Internat...|\n",
      "|San Jose Internat...|\n",
      "|Albuquerque Inter...|\n",
      "|Louis Armstrong N...|\n",
      "|Ontario Internati...|\n",
      "|  Boise Air Terminal|\n",
      "|       Orange County|\n",
      "|Detroit Metro Way...|\n",
      "|Piedmont Triad In...|\n",
      "|Indianapolis Muni...|\n",
      "|Salt Lake City In...|\n",
      "|Ronald Reagan Was...|\n",
      "|Des Moines Municipal|\n",
      "|Seattle Internati...|\n",
      "|General Mitchell ...|\n",
      "|Fort Lauderdale-H...|\n",
      "|Palm Beach Intern...|\n",
      "|Pittsburgh Intern...|\n",
      "|Memphis Internati...|\n",
      "|Phoenix Sky Harbo...|\n",
      "| Tampa International|\n",
      "|Richmond Internat...|\n",
      "|Washington Dulles...|\n",
      "|Houston Intercont...|\n",
      "|Nashville Interna...|\n",
      "|Chicago Midway In...|\n",
      "|   Douglas Municipal|\n",
      "|Bradley Internati...|\n",
      "|         Kent County|\n",
      "|McCarran Internat...|\n",
      "| Tulsa International|\n",
      "|Stapleton Interna...|\n",
      "|Charleston Intern...|\n",
      "|Greenville-Sparta...|\n",
      "|   Dallas Love Field|\n",
      "|   Atlanta Municipal|\n",
      "|San Francisco Int...|\n",
      "|Palm Springs Inte...|\n",
      "|Norfolk Internati...|\n",
      "|Cleveland-Hopkins...|\n",
      "|Jacksonville Inte...|\n",
      "|Reno/Tahoe Intern...|\n",
      "|Friendship Intern...|\n",
      "|Rochester Monroe ...|\n",
      "|Syracuse Hancock ...|\n",
      "|Northwest Arkansa...|\n",
      "|Albany International|\n",
      "|         Truax Field|\n",
      "|         Sanford NAS|\n",
      "|         Adams Field|\n",
      "|James M Cox/Dayto...|\n",
      "|  Pensacola Regional|\n",
      "|Portland Internat...|\n",
      "|Myrtle Beach Inte...|\n",
      "|Spokane Internati...|\n",
      "+--------------------+\n",
      "\n"
     ]
    },
    {
     "name": "stderr",
     "output_type": "stream",
     "text": [
      "                                                                                \r"
     ]
    }
   ],
   "source": [
    "print(\"Unique airports in delays:\")\n",
    "df_flightdelay.select('DEPARTING_AIRPORT').distinct().count()\n"
   ]
  },
  {
   "cell_type": "code",
   "execution_count": 91,
   "id": "ad340e06-18e1-4319-8c2e-105445622bd5",
   "metadata": {
    "collapsed": true,
    "jupyter": {
     "outputs_hidden": true
    }
   },
   "outputs": [
    {
     "name": "stderr",
     "output_type": "stream",
     "text": [
      "                                                                                \r"
     ]
    }
   ],
   "source": [
    "df_flightdelay.select('DEPARTING_AIRPORT').distinct().write.csv(path='./delays_departing_airports.csv', header=True)\n",
    "df_weather.select('NAME').distinct().write.csv(path='./weather_airport_name.csv', header=True)"
   ]
  },
  {
   "cell_type": "code",
   "execution_count": 46,
   "id": "07399dd8-f71f-46ae-a721-815d40604a52",
   "metadata": {
    "collapsed": true,
    "jupyter": {
     "outputs_hidden": true
    }
   },
   "outputs": [
    {
     "name": "stdout",
     "output_type": "stream",
     "text": [
      "DataFrame after Type Conversion:\n"
     ]
    },
    {
     "name": "stderr",
     "output_type": "stream",
     "text": [
      "24/05/01 20:54:27 WARN CSVHeaderChecker: CSV header does not conform to the schema.\n",
      " Header: , MONTH, DAY_OF_WEEK, DEP_DEL15, DEP_TIME_BLK, DISTANCE_GROUP, SEGMENT_NUMBER, CONCURRENT_FLIGHTS, NUMBER_OF_SEATS, CARRIER_NAME, AIRPORT_FLIGHTS_MONTH, AIRLINE_FLIGHTS_MONTH, AIRLINE_AIRPORT_FLIGHTS_MONTH, AVG_MONTHLY_PASS_AIRPORT, AVG_MONTHLY_PASS_AIRLINE, FLT_ATTENDANTS_PER_PASS, GROUND_SERV_PER_PASS, PLANE_AGE, DEPARTING_AIRPORT, LATITUDE, LONGITUDE, PREVIOUS_AIRPORT\n",
      " Schema: _c0, MONTH, DAY_OF_WEEK, DEP_DEL15, DEP_TIME_BLK, DISTANCE_GROUP, SEGMENT_NUMBER, CONCURRENT_FLIGHTS, NUMBER_OF_SEATS, CARRIER_NAME, AIRPORT_FLIGHTS_MONTH, AIRLINE_FLIGHTS_MONTH, AIRLINE_AIRPORT_FLIGHTS_MONTH, AVG_MONTHLY_PASS_AIRPORT, AVG_MONTHLY_PASS_AIRLINE, FLT_ATTENDANTS_PER_PASS, GROUND_SERV_PER_PASS, PLANE_AGE, DEPARTING_AIRPORT, LATITUDE, LONGITUDE, PREVIOUS_AIRPORT\n",
      "Expected: _c0 but found: \n",
      "CSV file: file:///home/mate/repos/LuckaEvolucne/full_data_flightdelay.csv\n",
      "24/05/01 20:55:06 WARN CSVHeaderChecker: CSV header does not conform to the schema.\n",
      " Header: , MONTH, DAY_OF_WEEK, DEP_DEL15, DEP_TIME_BLK, DISTANCE_GROUP, SEGMENT_NUMBER, CONCURRENT_FLIGHTS, NUMBER_OF_SEATS, CARRIER_NAME, AIRPORT_FLIGHTS_MONTH, AIRLINE_FLIGHTS_MONTH, AIRLINE_AIRPORT_FLIGHTS_MONTH, AVG_MONTHLY_PASS_AIRPORT, AVG_MONTHLY_PASS_AIRLINE, FLT_ATTENDANTS_PER_PASS, GROUND_SERV_PER_PASS, PLANE_AGE, DEPARTING_AIRPORT, LATITUDE, LONGITUDE, PREVIOUS_AIRPORT\n",
      " Schema: _c0, MONTH, DAY_OF_WEEK, DEP_DEL15, DEP_TIME_BLK, DISTANCE_GROUP, SEGMENT_NUMBER, CONCURRENT_FLIGHTS, NUMBER_OF_SEATS, CARRIER_NAME, AIRPORT_FLIGHTS_MONTH, AIRLINE_FLIGHTS_MONTH, AIRLINE_AIRPORT_FLIGHTS_MONTH, AVG_MONTHLY_PASS_AIRPORT, AVG_MONTHLY_PASS_AIRLINE, FLT_ATTENDANTS_PER_PASS, GROUND_SERV_PER_PASS, PLANE_AGE, DEPARTING_AIRPORT, LATITUDE, LONGITUDE, PREVIOUS_AIRPORT\n",
      "Expected: _c0 but found: \n",
      "CSV file: file:///home/mate/repos/LuckaEvolucne/full_data_flightdelay.csv\n"
     ]
    },
    {
     "name": "stdout",
     "output_type": "stream",
     "text": [
      "+---+-----------+---------+------------+--------------+--------------+------------------+---------------+--------------------+---------------------+---------------------+-----------------------------+------------------------+------------------------+-----------------------+--------------------+---------+--------------------+--------+---------+--------------------+---------------+-----+---------+\n",
      "|_c0|DAY_OF_WEEK|DEP_DEL15|DEP_TIME_BLK|DISTANCE_GROUP|SEGMENT_NUMBER|CONCURRENT_FLIGHTS|NUMBER_OF_SEATS|        CARRIER_NAME|AIRPORT_FLIGHTS_MONTH|AIRLINE_FLIGHTS_MONTH|AIRLINE_AIRPORT_FLIGHTS_MONTH|AVG_MONTHLY_PASS_AIRPORT|AVG_MONTHLY_PASS_AIRLINE|FLT_ATTENDANTS_PER_PASS|GROUND_SERV_PER_PASS|PLANE_AGE|   DEPARTING_AIRPORT|LATITUDE|LONGITUDE|    PREVIOUS_AIRPORT|normalized_name|MONTH|MONTH_INT|\n",
      "+---+-----------+---------+------------+--------------+--------------+------------------+---------------+--------------------+---------------------+---------------------+-----------------------------+------------------------+------------------------+-----------------------+--------------------+---------+--------------------+--------+---------+--------------------+---------------+-----+---------+\n",
      "|209|          7|        1|   1500-1559|           2.0|             3|                26|            129|       Allegiant Air|                13056|                 6713|                        645.0|                 1903352|                 1257616|   1.325258006198364...|  0.0001077434759039|       11|McCarran Internat...|   36.08| -115.152|Memphis Internati...|       mccarran|    1|        1|\n",
      "|324|          7|        0|   1400-1459|           7.0|             4|                25|            191|Delta Air Lines Inc.|                13056|                73508|                       1174.0|                 1903352|                12460183|     0.0001441658849878|  0.0001486602009422|        1|McCarran Internat...|   36.08| -115.152|   Atlanta Municipal|       mccarran|    1|        1|\n",
      "+---+-----------+---------+------------+--------------+--------------+------------------+---------------+--------------------+---------------------+---------------------+-----------------------------+------------------------+------------------------+-----------------------+--------------------+---------+--------------------+--------+---------+--------------------+---------------+-----+---------+\n",
      "only showing top 2 rows\n",
      "\n",
      "DataFrame with Replaced Column:\n"
     ]
    },
    {
     "name": "stderr",
     "output_type": "stream",
     "text": [
      "[Stage 149:==================================================>     (9 + 1) / 10]\r"
     ]
    },
    {
     "name": "stdout",
     "output_type": "stream",
     "text": [
      "+---+-----------+---------+------------+--------------+--------------+------------------+---------------+--------------------+---------------------+---------------------+-----------------------------+------------------------+------------------------+-----------------------+--------------------+---------+--------------------+--------+---------+--------------------+---------------+-----+\n",
      "|_c0|DAY_OF_WEEK|DEP_DEL15|DEP_TIME_BLK|DISTANCE_GROUP|SEGMENT_NUMBER|CONCURRENT_FLIGHTS|NUMBER_OF_SEATS|        CARRIER_NAME|AIRPORT_FLIGHTS_MONTH|AIRLINE_FLIGHTS_MONTH|AIRLINE_AIRPORT_FLIGHTS_MONTH|AVG_MONTHLY_PASS_AIRPORT|AVG_MONTHLY_PASS_AIRLINE|FLT_ATTENDANTS_PER_PASS|GROUND_SERV_PER_PASS|PLANE_AGE|   DEPARTING_AIRPORT|LATITUDE|LONGITUDE|    PREVIOUS_AIRPORT|normalized_name|MONTH|\n",
      "+---+-----------+---------+------------+--------------+--------------+------------------+---------------+--------------------+---------------------+---------------------+-----------------------------+------------------------+------------------------+-----------------------+--------------------+---------+--------------------+--------+---------+--------------------+---------------+-----+\n",
      "|209|          7|        1|   1500-1559|           2.0|             3|                26|            129|       Allegiant Air|                13056|                 6713|                        645.0|                 1903352|                 1257616|   1.325258006198364...|  0.0001077434759039|       11|McCarran Internat...|   36.08| -115.152|Memphis Internati...|       mccarran|    1|\n",
      "|324|          7|        0|   1400-1459|           7.0|             4|                25|            191|Delta Air Lines Inc.|                13056|                73508|                       1174.0|                 1903352|                12460183|     0.0001441658849878|  0.0001486602009422|        1|McCarran Internat...|   36.08| -115.152|   Atlanta Municipal|       mccarran|    1|\n",
      "+---+-----------+---------+------------+--------------+--------------+------------------+---------------+--------------------+---------------------+---------------------+-----------------------------+------------------------+------------------------+-----------------------+--------------------+---------+--------------------+--------+---------+--------------------+---------------+-----+\n",
      "only showing top 2 rows\n",
      "\n"
     ]
    },
    {
     "name": "stderr",
     "output_type": "stream",
     "text": [
      "                                                                                \r"
     ]
    }
   ],
   "source": [
    "# Cast Month column to integer\n",
    "# Convert the string column to integer\n",
    "df_flightdelay = df_flightdelay.withColumn(\"MONTH_INT\", col(\"MONTH\").cast(\"integer\"))\n",
    "\n",
    "# Show the modified DataFrame with the new integer column\n",
    "print(\"DataFrame after Type Conversion:\")\n",
    "df_flightdelay.show(n=2)\n",
    "\n",
    "# Optionally, you might want to replace the original column with the casted one\n",
    "df_flightdelay = df_flightdelay.drop(\"MONTH\").withColumnRenamed(\"MONTH_INT\", \"MONTH\")\n",
    "print(\"DataFrame with Replaced Column:\")\n",
    "df_flightdelay.show(n=2)"
   ]
  },
  {
   "cell_type": "code",
   "execution_count": 47,
   "id": "ab71331e-dd5a-4fe4-96d8-971c711c5836",
   "metadata": {
    "collapsed": true,
    "jupyter": {
     "outputs_hidden": true
    },
    "scrolled": true
   },
   "outputs": [
    {
     "name": "stdout",
     "output_type": "stream",
     "text": [
      "root\n",
      " |-- _c0: string (nullable = true)\n",
      " |-- DAY_OF_WEEK: string (nullable = true)\n",
      " |-- DEP_DEL15: string (nullable = true)\n",
      " |-- DEP_TIME_BLK: string (nullable = true)\n",
      " |-- DISTANCE_GROUP: string (nullable = true)\n",
      " |-- SEGMENT_NUMBER: string (nullable = true)\n",
      " |-- CONCURRENT_FLIGHTS: string (nullable = true)\n",
      " |-- NUMBER_OF_SEATS: string (nullable = true)\n",
      " |-- CARRIER_NAME: string (nullable = true)\n",
      " |-- AIRPORT_FLIGHTS_MONTH: string (nullable = true)\n",
      " |-- AIRLINE_FLIGHTS_MONTH: string (nullable = true)\n",
      " |-- AIRLINE_AIRPORT_FLIGHTS_MONTH: string (nullable = true)\n",
      " |-- AVG_MONTHLY_PASS_AIRPORT: string (nullable = true)\n",
      " |-- AVG_MONTHLY_PASS_AIRLINE: string (nullable = true)\n",
      " |-- FLT_ATTENDANTS_PER_PASS: string (nullable = true)\n",
      " |-- GROUND_SERV_PER_PASS: string (nullable = true)\n",
      " |-- PLANE_AGE: string (nullable = true)\n",
      " |-- DEPARTING_AIRPORT: string (nullable = true)\n",
      " |-- LATITUDE: string (nullable = true)\n",
      " |-- LONGITUDE: string (nullable = true)\n",
      " |-- PREVIOUS_AIRPORT: string (nullable = true)\n",
      " |-- normalized_name: string (nullable = true)\n",
      " |-- MONTH: integer (nullable = true)\n",
      "\n"
     ]
    }
   ],
   "source": [
    "df_flightdelay.printSchema()\n"
   ]
  },
  {
   "cell_type": "code",
   "execution_count": 48,
   "id": "0c09dbf2-39ce-42c3-9e35-35ffc9c47fa8",
   "metadata": {
    "collapsed": true,
    "jupyter": {
     "outputs_hidden": true
    }
   },
   "outputs": [
    {
     "name": "stdout",
     "output_type": "stream",
     "text": [
      "+-----+--------------------+------------------+--------------------+-------------------+-------------------+------------------+------------------+------------------+------------------+\n",
      "|MONTH|                NAME|              AWND|                PRCP|               SNOW|               SNWD|              TAVG|              TMAX|              TMIN|              WDF2|\n",
      "+-----+--------------------+------------------+--------------------+-------------------+-------------------+------------------+------------------+------------------+------------------+\n",
      "|    1|ALBANY INTERNATIO...| 9.604516129032257| 0.13838709677419353| 0.6096774193548388| 2.5064516129032257|23.967741935483872| 31.93548387096774|14.709677419354838|231.29032258064515|\n",
      "|    2|ALBANY INTERNATIO...| 8.803214285714287| 0.09571428571428572| 0.5035714285714284|              2.525|27.857142857142858|35.392857142857146|             19.75|233.57142857142858|\n",
      "|    3|ALBANY INTERNATIO...| 9.698064516129032|0.045000000000000005|0.21290322580645163|  1.348387096774194|35.354838709677416| 44.58064516129032| 25.70967741935484|248.06451612903226|\n",
      "|    4|ALBANY INTERNATIO...| 9.573666666666668|               0.144|               0.07|               0.04|50.166666666666664| 59.93333333333333| 39.63333333333333|             234.0|\n",
      "|    5|ALBANY INTERNATIO...| 7.662903225806452|  0.0993548387096774|                0.0|                0.0|58.096774193548384| 67.93548387096774| 49.12903225806452|210.96774193548387|\n",
      "|    6|ALBANY INTERNATIO...| 6.658999999999998| 0.17166666666666666|                0.0|                0.0| 68.53333333333333| 78.93333333333334| 57.06666666666667|229.66666666666666|\n",
      "|    7|ALBANY INTERNATIO...|5.3835483870967735| 0.12870967741935482|                0.0|                0.0| 75.96774193548387|  86.6774193548387|  65.6774193548387|211.93548387096774|\n",
      "|    8|ALBANY INTERNATIO...| 5.613870967741936|  0.1329032258064516|                0.0|                0.0|  71.2258064516129|  82.2258064516129| 61.16129032258065| 216.1290322580645|\n",
      "|    9|ALBANY INTERNATIO...| 5.965333333333336| 0.07433333333333333|                0.0|                0.0| 64.06666666666666|              75.2|              52.4|197.66666666666666|\n",
      "|   10|ALBANY INTERNATIO...| 6.400967741935484| 0.24129032258064514|                0.0|                0.0|53.774193548387096| 62.74193548387097| 44.41935483870968|212.58064516129033|\n",
      "|   11|ALBANY INTERNATIO...| 8.060333333333332|               0.094|0.07666666666666667|               0.16| 37.13333333333333|44.733333333333334|              28.7|214.33333333333334|\n",
      "|   12|ALBANY INTERNATIO...| 7.137096774193547| 0.14645161290322578| 0.9000000000000001|  3.761290322580645|30.483870967741936|36.903225806451616|22.677419354838708|225.16129032258064|\n",
      "|    1|ALBUQUERQUE INTER...| 6.725161290322581|0.016774193548387096|0.06451612903225806|0.12903225806451613| 35.32258064516129| 46.03225806451613|25.806451612903224|  257.741935483871|\n",
      "|    2|ALBUQUERQUE INTER...| 9.251428571428573|0.017857142857142856|               0.15|0.11071428571428572|39.285714285714285|              51.5|28.321428571428573|239.64285714285714|\n",
      "|    3|ALBUQUERQUE INTER...| 10.17451612903226|0.023548387096774197|                0.0|                0.0| 50.29032258064516| 62.16129032258065|38.225806451612904|217.09677419354838|\n",
      "|    4|ALBUQUERQUE INTER...| 8.835666666666665|0.033666666666666664|                0.0|                0.0|              57.6| 70.26666666666667| 44.43333333333333|             215.0|\n",
      "|    5|ALBUQUERQUE INTER...|  9.77741935483871|0.007741935483870969|                0.0|                0.0| 61.70967741935484|              75.0|48.193548387096776|217.74193548387098|\n",
      "|    6|ALBUQUERQUE INTER...| 9.857333333333333|0.002333333333333...|                0.0|                0.0|              74.4|              87.9|              59.7|205.66666666666666|\n",
      "|    7|ALBUQUERQUE INTER...|  8.42032258064516| 0.06290322580645161|                0.0|                0.0| 80.03225806451613| 93.48387096774194| 67.90322580645162| 163.2258064516129|\n",
      "|    8|ALBUQUERQUE INTER...|7.2377419354838715|0.013870967741935483|                0.0|                0.0| 78.96774193548387|  93.2258064516129| 66.03225806451613|192.25806451612902|\n",
      "+-----+--------------------+------------------+--------------------+-------------------+-------------------+------------------+------------------+------------------+------------------+\n",
      "only showing top 20 rows\n",
      "\n"
     ]
    }
   ],
   "source": [
    "from pyspark.sql.functions import coalesce\n",
    "\n",
    "# create new column for month and day_of_week values derived from date\n",
    "df_day_column = df_weather.withColumn(\"DATE_NEW\", to_date(col(\"DATE\"), \"M/d/yyyy\"))\n",
    "df_day_column = df_day_column.withColumn(\"DATE_NEW\", coalesce(df_day_column[\"DATE_NEW\"], to_date(df_day_column[\"DATE\"], 'yyyy-MM-dd')))\n",
    "    \n",
    "df_day_column = df_day_column.withColumn(\"DAY_OF_WEEK\", dayofweek(col(\"DATE_NEW\").alias(\"DAY_OF_WEEK\")))\n",
    "df_day_column = df_day_column.withColumn(\"MONTH\", month(col(\"DATE_NEW\").alias(\"MONTH\")))\n",
    "#df_day_column = df_weather.withColumn(\"DAY_OF_WEEK\", dayofweek(col(\"DATE\").alias(\"DAY_OF_WEEK\"))) \n",
    "\n",
    "\n",
    "\n",
    "\n",
    "#df_day_column.show(n=2)\n",
    "df_day_column.createOrReplaceTempView(\"table1\")\n",
    "df_select = spark.sql(\"SELECT STATION, NAME,DAY_OF_WEEK,DATE, MONTH, AWND, PRCP, SNOW, SNWD, TAVG, TMAX, TMIN, WDF2 from table1\")\n",
    "#df_select.show(n=5)\n",
    "\n",
    "grouped_df = df_select.groupBy(\"MONTH\", \"NAME\").agg(\n",
    "    avg(\"AWND\").alias(\"AWND\"),\n",
    "    avg(\"PRCP\").alias(\"PRCP\"),\n",
    "    avg(\"SNOW\").alias(\"SNOW\"),\n",
    "    avg(\"SNWD\").alias(\"SNWD\"),\n",
    "    avg(\"TAVG\").alias(\"TAVG\"),\n",
    "    avg(\"TMAX\").alias(\"TMAX\"),\n",
    "    avg(\"TMIN\").alias(\"TMIN\"),\n",
    "    avg(\"WDF2\").alias(\"WDF2\")\n",
    ").orderBy(\"NAME\",\"MONTH\")\n",
    "\n",
    "\n",
    "grouped_df.show(n=20)"
   ]
  },
  {
   "cell_type": "code",
   "execution_count": null,
   "id": "960f2df1-13be-42d4-8455-7a1d74bd8985",
   "metadata": {
    "collapsed": true,
    "jupyter": {
     "outputs_hidden": true
    }
   },
   "outputs": [],
   "source": []
  },
  {
   "cell_type": "code",
   "execution_count": null,
   "id": "ec282309-b8bf-45cf-a80b-a23cbbd644b4",
   "metadata": {
    "collapsed": true,
    "jupyter": {
     "outputs_hidden": true
    }
   },
   "outputs": [],
   "source": []
  },
  {
   "cell_type": "code",
   "execution_count": 49,
   "id": "66837d93-05eb-4042-bf6b-1159fcb003df",
   "metadata": {
    "collapsed": true,
    "jupyter": {
     "outputs_hidden": true
    }
   },
   "outputs": [
    {
     "name": "stdout",
     "output_type": "stream",
     "text": [
      "106\n",
      "106\n",
      "+-----+--------------------+-----------------+--------------------+--------------------+----+-----------------+-----------------+------------------+------------------+--------------------+\n",
      "|MONTH|                NAME|             AWND|                PRCP|                SNOW|SNWD|             TAVG|             TMAX|              TMIN|              WDF2|     normalized_name|\n",
      "+-----+--------------------+-----------------+--------------------+--------------------+----+-----------------+-----------------+------------------+------------------+--------------------+\n",
      "|    9|COLORADO SPRINGS ...|9.975999999999999|0.010666666666666668|                 0.0| 0.0|68.53333333333333|84.03333333333333|53.333333333333336|190.33333333333334|colorado springs ...|\n",
      "|   11|SPRINGFIELD WEATH...|9.499333333333334| 0.10966666666666666|0.013333333333333334| 0.0|             42.6|             55.0|31.766666666666666|             223.0|springfield weath...|\n",
      "+-----+--------------------+-----------------+--------------------+--------------------+----+-----------------+-----------------+------------------+------------------+--------------------+\n",
      "only showing top 2 rows\n",
      "\n"
     ]
    },
    {
     "name": "stderr",
     "output_type": "stream",
     "text": [
      "24/05/01 20:55:47 WARN CSVHeaderChecker: CSV header does not conform to the schema.\n",
      " Header: , MONTH, DAY_OF_WEEK, DEP_DEL15, DEP_TIME_BLK, DISTANCE_GROUP, SEGMENT_NUMBER, CONCURRENT_FLIGHTS, NUMBER_OF_SEATS, CARRIER_NAME, AIRPORT_FLIGHTS_MONTH, AIRLINE_FLIGHTS_MONTH, AIRLINE_AIRPORT_FLIGHTS_MONTH, AVG_MONTHLY_PASS_AIRPORT, AVG_MONTHLY_PASS_AIRLINE, FLT_ATTENDANTS_PER_PASS, GROUND_SERV_PER_PASS, PLANE_AGE, DEPARTING_AIRPORT, LATITUDE, LONGITUDE, PREVIOUS_AIRPORT\n",
      " Schema: _c0, MONTH, DAY_OF_WEEK, DEP_DEL15, DEP_TIME_BLK, DISTANCE_GROUP, SEGMENT_NUMBER, CONCURRENT_FLIGHTS, NUMBER_OF_SEATS, CARRIER_NAME, AIRPORT_FLIGHTS_MONTH, AIRLINE_FLIGHTS_MONTH, AIRLINE_AIRPORT_FLIGHTS_MONTH, AVG_MONTHLY_PASS_AIRPORT, AVG_MONTHLY_PASS_AIRLINE, FLT_ATTENDANTS_PER_PASS, GROUND_SERV_PER_PASS, PLANE_AGE, DEPARTING_AIRPORT, LATITUDE, LONGITUDE, PREVIOUS_AIRPORT\n",
      "Expected: _c0 but found: \n",
      "CSV file: file:///home/mate/repos/LuckaEvolucne/full_data_flightdelay.csv\n",
      "[Stage 180:>                                                        (0 + 1) / 1]\r"
     ]
    },
    {
     "name": "stdout",
     "output_type": "stream",
     "text": [
      "+---+-----------+---------+------------+--------------+--------------+------------------+---------------+--------------------+---------------------+---------------------+-----------------------------+------------------------+------------------------+-----------------------+--------------------+---------+--------------------+--------+---------+--------------------+---------------+-----+\n",
      "|_c0|DAY_OF_WEEK|DEP_DEL15|DEP_TIME_BLK|DISTANCE_GROUP|SEGMENT_NUMBER|CONCURRENT_FLIGHTS|NUMBER_OF_SEATS|        CARRIER_NAME|AIRPORT_FLIGHTS_MONTH|AIRLINE_FLIGHTS_MONTH|AIRLINE_AIRPORT_FLIGHTS_MONTH|AVG_MONTHLY_PASS_AIRPORT|AVG_MONTHLY_PASS_AIRLINE|FLT_ATTENDANTS_PER_PASS|GROUND_SERV_PER_PASS|PLANE_AGE|   DEPARTING_AIRPORT|LATITUDE|LONGITUDE|    PREVIOUS_AIRPORT|normalized_name|MONTH|\n",
      "+---+-----------+---------+------------+--------------+--------------+------------------+---------------+--------------------+---------------------+---------------------+-----------------------------+------------------------+------------------------+-----------------------+--------------------+---------+--------------------+--------+---------+--------------------+---------------+-----+\n",
      "|283|          7|        0|   1400-1459|           1.0|             4|                25|            143|Southwest Airline...|                13056|               107363|                       5873.0|                 1903352|                13382999|   6.178236301460919...|9.88941230999822e-05|       13|McCarran Internat...|   36.08| -115.152|   Dallas Love Field|       mccarran|    1|\n",
      "|330|          7|        1|   1100-1159|           1.0|             4|                26|            162|     JetBlue Airways|                13056|                23463|                        299.0|                 1903352|                 3190369|     0.0001600389254787|  0.0001268661761139|       15|McCarran Internat...|   36.08| -115.152|Long Beach Daughe...|       mccarran|    1|\n",
      "+---+-----------+---------+------------+--------------+--------------+------------------+---------------+--------------------+---------------------+---------------------+-----------------------------+------------------------+------------------------+-----------------------+--------------------+---------+--------------------+--------+---------+--------------------+---------------+-----+\n",
      "only showing top 2 rows\n",
      "\n"
     ]
    },
    {
     "name": "stderr",
     "output_type": "stream",
     "text": [
      "                                                                                \r"
     ]
    }
   ],
   "source": [
    "from pyspark.sql.functions import lower, split\n",
    "\n",
    "# Normalize joining columns\n",
    "grouped_df = grouped_df.withColumn(\"normalized_name\", lower(col(\"name\")))\n",
    "df_flightdelay = df_flightdelay.withColumn(\"normalized_name\", lower(split(col(\"departing_airport\"), \" \").getItem(0)))\n",
    "\n",
    "# Group by to investigate\n",
    "grouped_df_nn = grouped_df.groupBy(\"normalized_name\").agg(\n",
    "    count('*').alias('count')\n",
    ")\n",
    "\n",
    "grouped_df_name = grouped_df.groupBy(\"NAME\").agg(\n",
    "    count('*').alias('count')\n",
    ")\n",
    "\n",
    "print(grouped_df_nn.count())\n",
    "print(grouped_df_name.count())\n",
    "\n",
    "# Only unique values\n",
    "grouped_df = grouped_df.distinct()\n",
    "df_flightdelay = df_flightdelay.distinct()\n",
    "\n",
    "\n",
    "# Join dataframes grouped_df and df_flightdelay\n",
    "grouped_df.show(n=2)\n",
    "df_flightdelay.show(n=2)\n",
    "joined_df = df_flightdelay.alias('f').join(\n",
    "    grouped_df.alias('g'),\n",
    "    (col('g.month') == col('f.month')) & (col('g.normalized_name')).contains(col('f.normalized_name')), 'inner'\n",
    ")\n",
    "\n",
    "#joined_df.show(n=2)"
   ]
  },
  {
   "cell_type": "code",
   "execution_count": 50,
   "id": "a5f7dc5e-1efd-4a5b-9d0c-cccea01c9bfb",
   "metadata": {
    "collapsed": true,
    "jupyter": {
     "outputs_hidden": true
    }
   },
   "outputs": [
    {
     "name": "stderr",
     "output_type": "stream",
     "text": [
      "24/05/01 20:56:29 WARN CSVHeaderChecker: CSV header does not conform to the schema.\n",
      " Header: , MONTH, DAY_OF_WEEK, DEP_DEL15, DEP_TIME_BLK, DISTANCE_GROUP, SEGMENT_NUMBER, CONCURRENT_FLIGHTS, NUMBER_OF_SEATS, CARRIER_NAME, AIRPORT_FLIGHTS_MONTH, AIRLINE_FLIGHTS_MONTH, AIRLINE_AIRPORT_FLIGHTS_MONTH, AVG_MONTHLY_PASS_AIRPORT, AVG_MONTHLY_PASS_AIRLINE, FLT_ATTENDANTS_PER_PASS, GROUND_SERV_PER_PASS, PLANE_AGE, DEPARTING_AIRPORT, LATITUDE, LONGITUDE, PREVIOUS_AIRPORT\n",
      " Schema: _c0, MONTH, DAY_OF_WEEK, DEP_DEL15, DEP_TIME_BLK, DISTANCE_GROUP, SEGMENT_NUMBER, CONCURRENT_FLIGHTS, NUMBER_OF_SEATS, CARRIER_NAME, AIRPORT_FLIGHTS_MONTH, AIRLINE_FLIGHTS_MONTH, AIRLINE_AIRPORT_FLIGHTS_MONTH, AVG_MONTHLY_PASS_AIRPORT, AVG_MONTHLY_PASS_AIRLINE, FLT_ATTENDANTS_PER_PASS, GROUND_SERV_PER_PASS, PLANE_AGE, DEPARTING_AIRPORT, LATITUDE, LONGITUDE, PREVIOUS_AIRPORT\n",
      "Expected: _c0 but found: \n",
      "CSV file: file:///home/mate/repos/LuckaEvolucne/full_data_flightdelay.csv\n",
      "24/05/01 20:57:57 WARN CSVHeaderChecker: CSV header does not conform to the schema.\n",
      " Header: , MONTH, DAY_OF_WEEK, DEP_DEL15, DEP_TIME_BLK, DISTANCE_GROUP, SEGMENT_NUMBER, CONCURRENT_FLIGHTS, NUMBER_OF_SEATS, CARRIER_NAME, AIRPORT_FLIGHTS_MONTH, AIRLINE_FLIGHTS_MONTH, AIRLINE_AIRPORT_FLIGHTS_MONTH, AVG_MONTHLY_PASS_AIRPORT, AVG_MONTHLY_PASS_AIRLINE, FLT_ATTENDANTS_PER_PASS, GROUND_SERV_PER_PASS, PLANE_AGE, DEPARTING_AIRPORT, LATITUDE, LONGITUDE, PREVIOUS_AIRPORT\n",
      " Schema: _c0, MONTH, DAY_OF_WEEK, DEP_DEL15, DEP_TIME_BLK, DISTANCE_GROUP, SEGMENT_NUMBER, CONCURRENT_FLIGHTS, NUMBER_OF_SEATS, CARRIER_NAME, AIRPORT_FLIGHTS_MONTH, AIRLINE_FLIGHTS_MONTH, AIRLINE_AIRPORT_FLIGHTS_MONTH, AVG_MONTHLY_PASS_AIRPORT, AVG_MONTHLY_PASS_AIRLINE, FLT_ATTENDANTS_PER_PASS, GROUND_SERV_PER_PASS, PLANE_AGE, DEPARTING_AIRPORT, LATITUDE, LONGITUDE, PREVIOUS_AIRPORT\n",
      "Expected: _c0 but found: \n",
      "CSV file: file:///home/mate/repos/LuckaEvolucne/full_data_flightdelay.csv\n"
     ]
    },
    {
     "name": "stdout",
     "output_type": "stream",
     "text": [
      "12337982\n"
     ]
    },
    {
     "name": "stderr",
     "output_type": "stream",
     "text": [
      "[Stage 192:===================================================>   (16 + 1) / 17]\r"
     ]
    },
    {
     "name": "stdout",
     "output_type": "stream",
     "text": [
      "6489062\n"
     ]
    },
    {
     "name": "stderr",
     "output_type": "stream",
     "text": [
      "                                                                                \r"
     ]
    }
   ],
   "source": [
    "print(joined_df.count())\n",
    "print(df_flightdelay.count())"
   ]
  },
  {
   "cell_type": "code",
   "execution_count": 51,
   "id": "172f429f-79b7-4500-95e5-69adc835f84d",
   "metadata": {
    "collapsed": true,
    "jupyter": {
     "outputs_hidden": true
    }
   },
   "outputs": [
    {
     "name": "stderr",
     "output_type": "stream",
     "text": [
      "24/05/01 20:58:47 WARN CSVHeaderChecker: CSV header does not conform to the schema.\n",
      " Header: , MONTH, DAY_OF_WEEK, DEP_DEL15, DEP_TIME_BLK, DISTANCE_GROUP, SEGMENT_NUMBER, CONCURRENT_FLIGHTS, NUMBER_OF_SEATS, CARRIER_NAME, AIRPORT_FLIGHTS_MONTH, AIRLINE_FLIGHTS_MONTH, AIRLINE_AIRPORT_FLIGHTS_MONTH, AVG_MONTHLY_PASS_AIRPORT, AVG_MONTHLY_PASS_AIRLINE, FLT_ATTENDANTS_PER_PASS, GROUND_SERV_PER_PASS, PLANE_AGE, DEPARTING_AIRPORT, LATITUDE, LONGITUDE, PREVIOUS_AIRPORT\n",
      " Schema: _c0, MONTH, DAY_OF_WEEK, DEP_DEL15, DEP_TIME_BLK, DISTANCE_GROUP, SEGMENT_NUMBER, CONCURRENT_FLIGHTS, NUMBER_OF_SEATS, CARRIER_NAME, AIRPORT_FLIGHTS_MONTH, AIRLINE_FLIGHTS_MONTH, AIRLINE_AIRPORT_FLIGHTS_MONTH, AVG_MONTHLY_PASS_AIRPORT, AVG_MONTHLY_PASS_AIRLINE, FLT_ATTENDANTS_PER_PASS, GROUND_SERV_PER_PASS, PLANE_AGE, DEPARTING_AIRPORT, LATITUDE, LONGITUDE, PREVIOUS_AIRPORT\n",
      "Expected: _c0 but found: \n",
      "CSV file: file:///home/mate/repos/LuckaEvolucne/full_data_flightdelay.csv\n",
      "24/05/01 20:59:59 WARN CSVHeaderChecker: CSV header does not conform to the schema.\n",
      " Header: , MONTH, DAY_OF_WEEK, DEP_DEL15, DEP_TIME_BLK, DISTANCE_GROUP, SEGMENT_NUMBER, CONCURRENT_FLIGHTS, NUMBER_OF_SEATS, CARRIER_NAME, AIRPORT_FLIGHTS_MONTH, AIRLINE_FLIGHTS_MONTH, AIRLINE_AIRPORT_FLIGHTS_MONTH, AVG_MONTHLY_PASS_AIRPORT, AVG_MONTHLY_PASS_AIRLINE, FLT_ATTENDANTS_PER_PASS, GROUND_SERV_PER_PASS, PLANE_AGE, DEPARTING_AIRPORT, LATITUDE, LONGITUDE, PREVIOUS_AIRPORT\n",
      " Schema: _c0, MONTH, DAY_OF_WEEK, DEP_DEL15, DEP_TIME_BLK, DISTANCE_GROUP, SEGMENT_NUMBER, CONCURRENT_FLIGHTS, NUMBER_OF_SEATS, CARRIER_NAME, AIRPORT_FLIGHTS_MONTH, AIRLINE_FLIGHTS_MONTH, AIRLINE_AIRPORT_FLIGHTS_MONTH, AVG_MONTHLY_PASS_AIRPORT, AVG_MONTHLY_PASS_AIRLINE, FLT_ATTENDANTS_PER_PASS, GROUND_SERV_PER_PASS, PLANE_AGE, DEPARTING_AIRPORT, LATITUDE, LONGITUDE, PREVIOUS_AIRPORT\n",
      "Expected: _c0 but found: \n",
      "CSV file: file:///home/mate/repos/LuckaEvolucne/full_data_flightdelay.csv\n",
      "24/05/01 21:01:10 WARN CSVHeaderChecker: CSV header does not conform to the schema.\n",
      " Header: , MONTH, DAY_OF_WEEK, DEP_DEL15, DEP_TIME_BLK, DISTANCE_GROUP, SEGMENT_NUMBER, CONCURRENT_FLIGHTS, NUMBER_OF_SEATS, CARRIER_NAME, AIRPORT_FLIGHTS_MONTH, AIRLINE_FLIGHTS_MONTH, AIRLINE_AIRPORT_FLIGHTS_MONTH, AVG_MONTHLY_PASS_AIRPORT, AVG_MONTHLY_PASS_AIRLINE, FLT_ATTENDANTS_PER_PASS, GROUND_SERV_PER_PASS, PLANE_AGE, DEPARTING_AIRPORT, LATITUDE, LONGITUDE, PREVIOUS_AIRPORT\n",
      " Schema: _c0, MONTH, DAY_OF_WEEK, DEP_DEL15, DEP_TIME_BLK, DISTANCE_GROUP, SEGMENT_NUMBER, CONCURRENT_FLIGHTS, NUMBER_OF_SEATS, CARRIER_NAME, AIRPORT_FLIGHTS_MONTH, AIRLINE_FLIGHTS_MONTH, AIRLINE_AIRPORT_FLIGHTS_MONTH, AVG_MONTHLY_PASS_AIRPORT, AVG_MONTHLY_PASS_AIRLINE, FLT_ATTENDANTS_PER_PASS, GROUND_SERV_PER_PASS, PLANE_AGE, DEPARTING_AIRPORT, LATITUDE, LONGITUDE, PREVIOUS_AIRPORT\n",
      "Expected: _c0 but found: \n",
      "CSV file: file:///home/mate/repos/LuckaEvolucne/full_data_flightdelay.csv\n"
     ]
    },
    {
     "name": "stdout",
     "output_type": "stream",
     "text": [
      "+---------+-------+\n",
      "|DEP_DEL15|  count|\n",
      "+---------+-------+\n",
      "|        0|1016318|\n",
      "|        1| 216975|\n",
      "+---------+-------+\n",
      "\n"
     ]
    },
    {
     "name": "stderr",
     "output_type": "stream",
     "text": [
      "24/05/01 21:02:50 WARN CSVHeaderChecker: CSV header does not conform to the schema.\n",
      " Header: , MONTH, DAY_OF_WEEK, DEP_DEL15, DEP_TIME_BLK, DISTANCE_GROUP, SEGMENT_NUMBER, CONCURRENT_FLIGHTS, NUMBER_OF_SEATS, CARRIER_NAME, AIRPORT_FLIGHTS_MONTH, AIRLINE_FLIGHTS_MONTH, AIRLINE_AIRPORT_FLIGHTS_MONTH, AVG_MONTHLY_PASS_AIRPORT, AVG_MONTHLY_PASS_AIRLINE, FLT_ATTENDANTS_PER_PASS, GROUND_SERV_PER_PASS, PLANE_AGE, DEPARTING_AIRPORT, LATITUDE, LONGITUDE, PREVIOUS_AIRPORT\n",
      " Schema: _c0, MONTH, DAY_OF_WEEK, DEP_DEL15, DEP_TIME_BLK, DISTANCE_GROUP, SEGMENT_NUMBER, CONCURRENT_FLIGHTS, NUMBER_OF_SEATS, CARRIER_NAME, AIRPORT_FLIGHTS_MONTH, AIRLINE_FLIGHTS_MONTH, AIRLINE_AIRPORT_FLIGHTS_MONTH, AVG_MONTHLY_PASS_AIRPORT, AVG_MONTHLY_PASS_AIRLINE, FLT_ATTENDANTS_PER_PASS, GROUND_SERV_PER_PASS, PLANE_AGE, DEPARTING_AIRPORT, LATITUDE, LONGITUDE, PREVIOUS_AIRPORT\n",
      "Expected: _c0 but found: \n",
      "CSV file: file:///home/mate/repos/LuckaEvolucne/full_data_flightdelay.csv\n"
     ]
    },
    {
     "name": "stdout",
     "output_type": "stream",
     "text": [
      "Training Dataset Count: 739242\n"
     ]
    },
    {
     "name": "stderr",
     "output_type": "stream",
     "text": [
      "[Stage 228:===================================================>   (16 + 1) / 17]\r"
     ]
    },
    {
     "name": "stdout",
     "output_type": "stream",
     "text": [
      "Testing Dataset Count: 494051\n"
     ]
    },
    {
     "name": "stderr",
     "output_type": "stream",
     "text": [
      "                                                                                \r"
     ]
    }
   ],
   "source": [
    "\n",
    "\n",
    "fractions = {label: 0.1 for label in joined_df.select(\"DEP_DEL15\").distinct().rdd.flatMap(lambda x: x).collect()}\n",
    "sampled_df = joined_df.stat.sampleBy(\"DEP_DEL15\", fractions, seed=1234)\n",
    "\n",
    "# Show the sampled data distribution\n",
    "sampled_df.groupBy(\"DEP_DEL15\").count().show()\n",
    "\n",
    "# Split the DataFrame into training (60%) and test (40%) sets\n",
    "train_df, test_df = sampled_df.randomSplit([0.6, 0.4], seed=1234)\n",
    "\n",
    "# Show the size of each set\n",
    "print(\"Training Dataset Count: \" + str(train_df.count()))\n",
    "print(\"Testing Dataset Count: \" + str(test_df.count()))\n"
   ]
  },
  {
   "cell_type": "code",
   "execution_count": 52,
   "id": "5c03660f-4c5e-4e00-a7fd-2e9c5457d10a",
   "metadata": {
    "collapsed": true,
    "jupyter": {
     "outputs_hidden": true
    }
   },
   "outputs": [
    {
     "name": "stderr",
     "output_type": "stream",
     "text": [
      "24/05/01 21:04:25 WARN CSVHeaderChecker: CSV header does not conform to the schema.\n",
      " Header: , MONTH, DAY_OF_WEEK, DEP_DEL15, DEP_TIME_BLK, DISTANCE_GROUP, SEGMENT_NUMBER, CONCURRENT_FLIGHTS, NUMBER_OF_SEATS, CARRIER_NAME, AIRPORT_FLIGHTS_MONTH, AIRLINE_FLIGHTS_MONTH, AIRLINE_AIRPORT_FLIGHTS_MONTH, AVG_MONTHLY_PASS_AIRPORT, AVG_MONTHLY_PASS_AIRLINE, FLT_ATTENDANTS_PER_PASS, GROUND_SERV_PER_PASS, PLANE_AGE, DEPARTING_AIRPORT, LATITUDE, LONGITUDE, PREVIOUS_AIRPORT\n",
      " Schema: _c0, MONTH, DAY_OF_WEEK, DEP_DEL15, DEP_TIME_BLK, DISTANCE_GROUP, SEGMENT_NUMBER, CONCURRENT_FLIGHTS, NUMBER_OF_SEATS, CARRIER_NAME, AIRPORT_FLIGHTS_MONTH, AIRLINE_FLIGHTS_MONTH, AIRLINE_AIRPORT_FLIGHTS_MONTH, AVG_MONTHLY_PASS_AIRPORT, AVG_MONTHLY_PASS_AIRLINE, FLT_ATTENDANTS_PER_PASS, GROUND_SERV_PER_PASS, PLANE_AGE, DEPARTING_AIRPORT, LATITUDE, LONGITUDE, PREVIOUS_AIRPORT\n",
      "Expected: _c0 but found: \n",
      "CSV file: file:///home/mate/repos/LuckaEvolucne/full_data_flightdelay.csv\n",
      "24/05/01 21:05:40 WARN CSVHeaderChecker: CSV header does not conform to the schema.\n",
      " Header: , MONTH, DAY_OF_WEEK, DEP_DEL15, DEP_TIME_BLK, DISTANCE_GROUP, SEGMENT_NUMBER, CONCURRENT_FLIGHTS, NUMBER_OF_SEATS, CARRIER_NAME, AIRPORT_FLIGHTS_MONTH, AIRLINE_FLIGHTS_MONTH, AIRLINE_AIRPORT_FLIGHTS_MONTH, AVG_MONTHLY_PASS_AIRPORT, AVG_MONTHLY_PASS_AIRLINE, FLT_ATTENDANTS_PER_PASS, GROUND_SERV_PER_PASS, PLANE_AGE, DEPARTING_AIRPORT, LATITUDE, LONGITUDE, PREVIOUS_AIRPORT\n",
      " Schema: _c0, MONTH, DAY_OF_WEEK, DEP_DEL15, DEP_TIME_BLK, DISTANCE_GROUP, SEGMENT_NUMBER, CONCURRENT_FLIGHTS, NUMBER_OF_SEATS, CARRIER_NAME, AIRPORT_FLIGHTS_MONTH, AIRLINE_FLIGHTS_MONTH, AIRLINE_AIRPORT_FLIGHTS_MONTH, AVG_MONTHLY_PASS_AIRPORT, AVG_MONTHLY_PASS_AIRLINE, FLT_ATTENDANTS_PER_PASS, GROUND_SERV_PER_PASS, PLANE_AGE, DEPARTING_AIRPORT, LATITUDE, LONGITUDE, PREVIOUS_AIRPORT\n",
      "Expected: _c0 but found: \n",
      "CSV file: file:///home/mate/repos/LuckaEvolucne/full_data_flightdelay.csv\n",
      "[Stage 244:>                                                        (0 + 1) / 1]\r"
     ]
    },
    {
     "name": "stdout",
     "output_type": "stream",
     "text": [
      "+-------------------+---------------+\n",
      "|               PRCP|precip_category|\n",
      "+-------------------+---------------+\n",
      "|0.03354838709677419|            low|\n",
      "|0.03354838709677419|            low|\n",
      "| 0.1129032258064516|         medium|\n",
      "| 0.1129032258064516|         medium|\n",
      "|0.05741935483870968|         medium|\n",
      "| 0.1235483870967742|         medium|\n",
      "| 0.1235483870967742|         medium|\n",
      "| 0.1235483870967742|         medium|\n",
      "|0.06322580645161291|         medium|\n",
      "|0.06322580645161291|         medium|\n",
      "|0.06451612903225806|         medium|\n",
      "|0.06451612903225806|         medium|\n",
      "|0.06451612903225806|         medium|\n",
      "|0.06451612903225806|         medium|\n",
      "|0.06451612903225806|         medium|\n",
      "|0.13580645161290322|           high|\n",
      "|0.13580645161290322|           high|\n",
      "|0.13580645161290322|           high|\n",
      "|0.13580645161290322|           high|\n",
      "| 0.0932258064516129|         medium|\n",
      "+-------------------+---------------+\n",
      "only showing top 20 rows\n",
      "\n"
     ]
    },
    {
     "name": "stderr",
     "output_type": "stream",
     "text": [
      "                                                                                \r"
     ]
    }
   ],
   "source": [
    "# Numerical to nominal\n",
    "# Calculate the quantile thresholds\n",
    "thresholds = joined_df.approxQuantile(\"PRCP\", [0.33, 0.67], 0.01)  # 0.01 is the relative error\n",
    "\n",
    "# Categorize based on quantile thresholds\n",
    "joined_df = joined_df.withColumn(\n",
    "    \"precip_category\",\n",
    "    when(col(\"PRCP\") <= thresholds[0], \"low\")\n",
    "    .when(col(\"PRCP\") <= thresholds[1], \"medium\")\n",
    "    .otherwise(\"high\")\n",
    ")\n",
    "\n",
    "# Show the resulting DataFrame\n",
    "joined_df.select(\"PRCP\", \"precip_category\").show()"
   ]
  },
  {
   "cell_type": "code",
   "execution_count": 53,
   "id": "491a0a78-3926-4a79-921d-20c97bc69708",
   "metadata": {
    "collapsed": true,
    "jupyter": {
     "outputs_hidden": true
    }
   },
   "outputs": [
    {
     "name": "stderr",
     "output_type": "stream",
     "text": [
      "24/05/01 21:06:19 WARN CSVHeaderChecker: CSV header does not conform to the schema.\n",
      " Header: , MONTH, DAY_OF_WEEK, DEP_DEL15, DEP_TIME_BLK, DISTANCE_GROUP, SEGMENT_NUMBER, CONCURRENT_FLIGHTS, NUMBER_OF_SEATS, CARRIER_NAME, AIRPORT_FLIGHTS_MONTH, AIRLINE_FLIGHTS_MONTH, AIRLINE_AIRPORT_FLIGHTS_MONTH, AVG_MONTHLY_PASS_AIRPORT, AVG_MONTHLY_PASS_AIRLINE, FLT_ATTENDANTS_PER_PASS, GROUND_SERV_PER_PASS, PLANE_AGE, DEPARTING_AIRPORT, LATITUDE, LONGITUDE, PREVIOUS_AIRPORT\n",
      " Schema: _c0, MONTH, DAY_OF_WEEK, DEP_DEL15, DEP_TIME_BLK, DISTANCE_GROUP, SEGMENT_NUMBER, CONCURRENT_FLIGHTS, NUMBER_OF_SEATS, CARRIER_NAME, AIRPORT_FLIGHTS_MONTH, AIRLINE_FLIGHTS_MONTH, AIRLINE_AIRPORT_FLIGHTS_MONTH, AVG_MONTHLY_PASS_AIRPORT, AVG_MONTHLY_PASS_AIRLINE, FLT_ATTENDANTS_PER_PASS, GROUND_SERV_PER_PASS, PLANE_AGE, DEPARTING_AIRPORT, LATITUDE, LONGITUDE, PREVIOUS_AIRPORT\n",
      "Expected: _c0 but found: \n",
      "CSV file: file:///home/mate/repos/LuckaEvolucne/full_data_flightdelay.csv\n"
     ]
    },
    {
     "name": "stdout",
     "output_type": "stream",
     "text": [
      "root\n",
      " |-- _c0: string (nullable = true)\n",
      " |-- DAY_OF_WEEK: string (nullable = true)\n",
      " |-- DEP_DEL15: string (nullable = true)\n",
      " |-- DEP_TIME_BLK: string (nullable = true)\n",
      " |-- DISTANCE_GROUP: string (nullable = true)\n",
      " |-- SEGMENT_NUMBER: string (nullable = true)\n",
      " |-- CONCURRENT_FLIGHTS: string (nullable = true)\n",
      " |-- NUMBER_OF_SEATS: string (nullable = true)\n",
      " |-- CARRIER_NAME: string (nullable = true)\n",
      " |-- AIRPORT_FLIGHTS_MONTH: string (nullable = true)\n",
      " |-- AIRLINE_FLIGHTS_MONTH: string (nullable = true)\n",
      " |-- AIRLINE_AIRPORT_FLIGHTS_MONTH: string (nullable = true)\n",
      " |-- AVG_MONTHLY_PASS_AIRPORT: string (nullable = true)\n",
      " |-- AVG_MONTHLY_PASS_AIRLINE: string (nullable = true)\n",
      " |-- FLT_ATTENDANTS_PER_PASS: string (nullable = true)\n",
      " |-- GROUND_SERV_PER_PASS: string (nullable = true)\n",
      " |-- PLANE_AGE: string (nullable = true)\n",
      " |-- DEPARTING_AIRPORT: string (nullable = true)\n",
      " |-- LATITUDE: string (nullable = true)\n",
      " |-- LONGITUDE: string (nullable = true)\n",
      " |-- PREVIOUS_AIRPORT: string (nullable = true)\n",
      " |-- normalized_name: string (nullable = true)\n",
      " |-- MONTH: integer (nullable = true)\n",
      " |-- MONTH: integer (nullable = true)\n",
      " |-- NAME: string (nullable = true)\n",
      " |-- AWND: double (nullable = true)\n",
      " |-- PRCP: double (nullable = true)\n",
      " |-- SNOW: double (nullable = true)\n",
      " |-- SNWD: double (nullable = true)\n",
      " |-- TAVG: double (nullable = true)\n",
      " |-- TMAX: double (nullable = true)\n",
      " |-- TMIN: double (nullable = true)\n",
      " |-- WDF2: double (nullable = true)\n",
      " |-- normalized_name: string (nullable = true)\n",
      " |-- precip_category: string (nullable = false)\n",
      "\n"
     ]
    },
    {
     "name": "stderr",
     "output_type": "stream",
     "text": [
      "[Stage 250:>                                                        (0 + 1) / 1]\r"
     ]
    },
    {
     "name": "stdout",
     "output_type": "stream",
     "text": [
      "+---+-----------+---------+------------+--------------+--------------+------------------+---------------+--------------------+---------------------+---------------------+-----------------------------+------------------------+------------------------+-----------------------+--------------------+---------+--------------------+--------+---------+--------------------+---------------+-----+-----+--------------------+-----------------+-------------------+----+----+------------------+------------------+-----------------+------------------+--------------------+---------------+\n",
      "|_c0|DAY_OF_WEEK|DEP_DEL15|DEP_TIME_BLK|DISTANCE_GROUP|SEGMENT_NUMBER|CONCURRENT_FLIGHTS|NUMBER_OF_SEATS|        CARRIER_NAME|AIRPORT_FLIGHTS_MONTH|AIRLINE_FLIGHTS_MONTH|AIRLINE_AIRPORT_FLIGHTS_MONTH|AVG_MONTHLY_PASS_AIRPORT|AVG_MONTHLY_PASS_AIRLINE|FLT_ATTENDANTS_PER_PASS|GROUND_SERV_PER_PASS|PLANE_AGE|   DEPARTING_AIRPORT|LATITUDE|LONGITUDE|    PREVIOUS_AIRPORT|normalized_name|MONTH|MONTH|                NAME|             AWND|               PRCP|SNOW|SNWD|              TAVG|              TMAX|             TMIN|              WDF2|     normalized_name|precip_category|\n",
      "+---+-----------+---------+------------+--------------+--------------+------------------+---------------+--------------------+---------------------+---------------------+-----------------------------+------------------------+------------------------+-----------------------+--------------------+---------+--------------------+--------+---------+--------------------+---------------+-----+-----+--------------------+-----------------+-------------------+----+----+------------------+------------------+-----------------+------------------+--------------------+---------------+\n",
      "|283|          7|        0|   1400-1459|           1.0|             4|                25|            143|Southwest Airline...|                13056|               107363|                       5873.0|                 1903352|                13382999|   6.178236301460919...|9.88941230999822e-05|       13|McCarran Internat...|   36.08| -115.152|   Dallas Love Field|       mccarran|    1|    1|MCCARRAN INTERNAT...|5.368709677419356|0.03354838709677419| 0.0| 0.0|49.774193548387096|58.516129032258064|42.12903225806452|134.83870967741936|mccarran internat...|            low|\n",
      "|330|          7|        1|   1100-1159|           1.0|             4|                26|            162|     JetBlue Airways|                13056|                23463|                        299.0|                 1903352|                 3190369|     0.0001600389254787|  0.0001268661761139|       15|McCarran Internat...|   36.08| -115.152|Long Beach Daughe...|       mccarran|    1|    1|MCCARRAN INTERNAT...|5.368709677419356|0.03354838709677419| 0.0| 0.0|49.774193548387096|58.516129032258064|42.12903225806452|134.83870967741936|mccarran internat...|            low|\n",
      "+---+-----------+---------+------------+--------------+--------------+------------------+---------------+--------------------+---------------------+---------------------+-----------------------------+------------------------+------------------------+-----------------------+--------------------+---------+--------------------+--------+---------+--------------------+---------------+-----+-----+--------------------+-----------------+-------------------+----+----+------------------+------------------+-----------------+------------------+--------------------+---------------+\n",
      "only showing top 2 rows\n",
      "\n"
     ]
    },
    {
     "name": "stderr",
     "output_type": "stream",
     "text": [
      "                                                                                \r"
     ]
    }
   ],
   "source": [
    "joined_df.printSchema()\n",
    "joined_df.show(n=2)"
   ]
  },
  {
   "cell_type": "code",
   "execution_count": 62,
   "id": "c3ebb259-c7e6-4a5a-8eb1-2b337419b4b1",
   "metadata": {
    "collapsed": true,
    "jupyter": {
     "outputs_hidden": true
    }
   },
   "outputs": [
    {
     "name": "stdout",
     "output_type": "stream",
     "text": [
      "Columns before operation: ['_c0', 'DAY_OF_WEEK', 'DEP_DEL15', 'DEP_TIME_BLK', 'DISTANCE_GROUP', 'SEGMENT_NUMBER', 'CONCURRENT_FLIGHTS', 'NUMBER_OF_SEATS', 'CARRIER_NAME', 'AIRPORT_FLIGHTS_MONTH', 'AIRLINE_FLIGHTS_MONTH', 'AIRLINE_AIRPORT_FLIGHTS_MONTH', 'AVG_MONTHLY_PASS_AIRPORT', 'AVG_MONTHLY_PASS_AIRLINE', 'FLT_ATTENDANTS_PER_PASS', 'GROUND_SERV_PER_PASS', 'PLANE_AGE', 'DEPARTING_AIRPORT', 'LATITUDE', 'LONGITUDE', 'PREVIOUS_AIRPORT', 'normalized_name', 'MONTH', 'MONTH', 'NAME', 'AWND', 'PRCP', 'SNOW', 'SNWD', 'TAVG', 'TMAX', 'TMIN', 'WDF2', 'normalized_name', 'precip_category']\n",
      "Columns after operation: ['_c0', 'DAY_OF_WEEK', 'DEP_DEL15', 'DEP_TIME_BLK', 'DISTANCE_GROUP', 'SEGMENT_NUMBER', 'CONCURRENT_FLIGHTS', 'NUMBER_OF_SEATS', 'CARRIER_NAME', 'AIRPORT_FLIGHTS_MONTH', 'AIRLINE_FLIGHTS_MONTH', 'AIRLINE_AIRPORT_FLIGHTS_MONTH', 'AVG_MONTHLY_PASS_AIRPORT', 'AVG_MONTHLY_PASS_AIRLINE', 'FLT_ATTENDANTS_PER_PASS', 'GROUND_SERV_PER_PASS', 'PLANE_AGE', 'DEPARTING_AIRPORT', 'LATITUDE', 'LONGITUDE', 'PREVIOUS_AIRPORT', 'NAME', 'AWND', 'PRCP', 'SNOW', 'SNWD', 'TAVG', 'TMAX', 'TMIN', 'WDF2', 'precip_category', 'MONTH', 'normalized_name']\n"
     ]
    },
    {
     "name": "stderr",
     "output_type": "stream",
     "text": [
      "24/05/01 21:14:48 WARN CSVHeaderChecker: CSV header does not conform to the schema.\n",
      " Header: , MONTH, DAY_OF_WEEK, DEP_DEL15, DEP_TIME_BLK, DISTANCE_GROUP, SEGMENT_NUMBER, CONCURRENT_FLIGHTS, NUMBER_OF_SEATS, CARRIER_NAME, AIRPORT_FLIGHTS_MONTH, AIRLINE_FLIGHTS_MONTH, AIRLINE_AIRPORT_FLIGHTS_MONTH, AVG_MONTHLY_PASS_AIRPORT, AVG_MONTHLY_PASS_AIRLINE, FLT_ATTENDANTS_PER_PASS, GROUND_SERV_PER_PASS, PLANE_AGE, DEPARTING_AIRPORT, LATITUDE, LONGITUDE, PREVIOUS_AIRPORT\n",
      " Schema: _c0, MONTH, DAY_OF_WEEK, DEP_DEL15, DEP_TIME_BLK, DISTANCE_GROUP, SEGMENT_NUMBER, CONCURRENT_FLIGHTS, NUMBER_OF_SEATS, CARRIER_NAME, AIRPORT_FLIGHTS_MONTH, AIRLINE_FLIGHTS_MONTH, AIRLINE_AIRPORT_FLIGHTS_MONTH, AVG_MONTHLY_PASS_AIRPORT, AVG_MONTHLY_PASS_AIRLINE, FLT_ATTENDANTS_PER_PASS, GROUND_SERV_PER_PASS, PLANE_AGE, DEPARTING_AIRPORT, LATITUDE, LONGITUDE, PREVIOUS_AIRPORT\n",
      "Expected: _c0 but found: \n",
      "CSV file: file:///home/mate/repos/LuckaEvolucne/full_data_flightdelay.csv\n",
      "[Stage 256:>                                                        (0 + 1) / 1]\r"
     ]
    },
    {
     "name": "stdout",
     "output_type": "stream",
     "text": [
      "+----+-----------+---------+------------+--------------+--------------+------------------+---------------+--------------------+---------------------+---------------------+-----------------------------+------------------------+------------------------+-----------------------+--------------------+---------+--------------------+--------+---------+--------------------+--------------------+------------------+-------------------+------------------+------------------+------------------+------------------+------------------+------------------+---------------+-----+---------------+\n",
      "| _c0|DAY_OF_WEEK|DEP_DEL15|DEP_TIME_BLK|DISTANCE_GROUP|SEGMENT_NUMBER|CONCURRENT_FLIGHTS|NUMBER_OF_SEATS|        CARRIER_NAME|AIRPORT_FLIGHTS_MONTH|AIRLINE_FLIGHTS_MONTH|AIRLINE_AIRPORT_FLIGHTS_MONTH|AVG_MONTHLY_PASS_AIRPORT|AVG_MONTHLY_PASS_AIRLINE|FLT_ATTENDANTS_PER_PASS|GROUND_SERV_PER_PASS|PLANE_AGE|   DEPARTING_AIRPORT|LATITUDE|LONGITUDE|    PREVIOUS_AIRPORT|                NAME|              AWND|               PRCP|              SNOW|              SNWD|              TAVG|              TMAX|              TMIN|              WDF2|precip_category|MONTH|normalized_name|\n",
      "+----+-----------+---------+------------+--------------+--------------+------------------+---------------+--------------------+---------------------+---------------------+-----------------------------+------------------------+------------------------+-----------------------+--------------------+---------+--------------------+--------+---------+--------------------+--------------------+------------------+-------------------+------------------+------------------+------------------+------------------+------------------+------------------+---------------+-----+---------------+\n",
      "| 283|          7|        0|   1400-1459|           1.0|             4|                25|            143|Southwest Airline...|                13056|               107363|                       5873.0|                 1903352|                13382999|   6.178236301460919...|9.88941230999822e-05|       13|McCarran Internat...|   36.08| -115.152|   Dallas Love Field|MCCARRAN INTERNAT...| 5.368709677419356|0.03354838709677419|               0.0|               0.0|49.774193548387096|58.516129032258064| 42.12903225806452|134.83870967741936|            low|    1|       mccarran|\n",
      "| 330|          7|        1|   1100-1159|           1.0|             4|                26|            162|     JetBlue Airways|                13056|                23463|                        299.0|                 1903352|                 3190369|     0.0001600389254787|  0.0001268661761139|       15|McCarran Internat...|   36.08| -115.152|Long Beach Daughe...|MCCARRAN INTERNAT...| 5.368709677419356|0.03354838709677419|               0.0|               0.0|49.774193548387096|58.516129032258064| 42.12903225806452|134.83870967741936|            low|    1|       mccarran|\n",
      "| 717|          5|        0|   1300-1359|           4.0|             3|                28|            186|Frontier Airlines...|                11861|                 9496|                       1129.0|                 1823051|                 1857122|     0.0001157256482767|7.134694872433899...|        2|Orlando Internati...|  28.432|  -81.325|Albany International|ORLANDO INTERNATI...| 8.722903225806453| 0.1129032258064516|               0.0|               0.0| 60.41935483870968| 71.06451612903226|50.064516129032256|202.90322580645162|         medium|    1|        orlando|\n",
      "| 801|          5|        0|   1600-1659|           3.0|             5|                27|            110|Delta Air Lines Inc.|                11861|                73508|                       1549.0|                 1823051|                12460183|     0.0001441658849878|  0.0001486602009422|       20|Orlando Internati...|  28.432|  -81.325|Raleigh-Durham In...|ORLANDO INTERNATI...| 8.722903225806453| 0.1129032258064516|               0.0|               0.0| 60.41935483870968| 71.06451612903226|50.064516129032256|202.90322580645162|         medium|    1|        orlando|\n",
      "|1114|          5|        0|   1700-1759|           3.0|             3|                15|            180|Delta Air Lines Inc.|                 4308|                73508|                        545.0|                  477995|                12460183|     0.0001441658849878|  0.0001486602009422|        3|Kansas City Inter...|  39.298|  -94.714|   Atlanta Municipal|KANSAS CITY INTER...|10.484516129032258|0.05741935483870968|               0.3|1.1483870967741936|28.548387096774192| 36.32258064516129|19.870967741935484| 216.7741935483871|         medium|    1|         kansas|\n",
      "|1264|          5|        0|   0600-0659|           3.0|             1|                22|            181|Alaska Airlines Inc.|                10155|                20315|                       5024.0|                 1960746|                 2884187|   3.233146156611231...|  0.0001746014497265|        3|Seattle Internati...|  47.447| -122.306|                NONE|SEATTLE TACOMA AI...| 7.728064516129034| 0.1235483870967742|               0.0|               0.0| 44.74193548387097| 51.12903225806452| 38.87096774193548|135.48387096774192|         medium|    1|        seattle|\n",
      "|1316|          5|        0|   1000-1059|           4.0|             2|                21|            145|    Spirit Air Lines|                10155|                15023|                        102.0|                 1960746|                 2688839|   9.173723925704242...|  0.0001246510730715|       13|Seattle Internati...|  47.447| -122.306|McCarran Internat...|SEATTLE TACOMA AI...| 7.728064516129034| 0.1235483870967742|               0.0|               0.0| 44.74193548387097| 51.12903225806452| 38.87096774193548|135.48387096774192|         medium|    1|        seattle|\n",
      "|1510|          5|        0|   1800-1859|           5.0|             4|                15|            160|Delta Air Lines Inc.|                10155|                73508|                       2173.0|                 1960746|                12460183|     0.0001441658849878|  0.0001486602009422|       19|Seattle Internati...|  47.447| -122.306|Anchorage Interna...|SEATTLE TACOMA AI...| 7.728064516129034| 0.1235483870967742|               0.0|               0.0| 44.74193548387097| 51.12903225806452| 38.87096774193548|135.48387096774192|         medium|    1|        seattle|\n",
      "|2171|          3|        0|   1800-1859|           4.0|             4|                75|            120|United Air Lines ...|                23400|                46218|                       5228.0|                 3103410|                 8501631|     0.0002538042406215|  0.0002289854734932|       18|Chicago O'Hare In...|  41.978|  -87.906|San Antonio Inter...|CHICAGO OHARE INT...|10.383548387096774|0.06322580645161291|0.5870967741935484| 2.858064516129033|21.483870967741936|27.451612903225808|14.548387096774194|204.19354838709677|         medium|    1|        chicago|\n",
      "|2263|          3|        1|   1900-1959|           2.0|             6|                57|             50|Atlantic Southeas...|                23400|                12231|                       1059.0|                 3103410|                  473794|                    0.0|  0.0001998053656534|       18|Chicago O'Hare In...|  41.978|  -87.906|Lehigh Valley Int...|CHICAGO OHARE INT...|10.383548387096774|0.06322580645161291|0.5870967741935484| 2.858064516129033|21.483870967741936|27.451612903225808|14.548387096774194|204.19354838709677|         medium|    1|        chicago|\n",
      "|2320|          5|        0|   0700-0759|           1.0|             1|                14|            160|American Airlines...|                 7835|                75506|                       4602.0|                 1413432|                11744595|   9.82082928995461e-05|   0.000177287219593|       18| Miami International|  25.792|  -80.286|                NONE|MIAMI INTERNATION...| 7.843548387096774|0.06451612903225806|              NULL|              NULL| 68.03225806451613|              76.0|60.096774193548384|201.61290322580646|         medium|    1|          miami|\n",
      "|2400|          5|        0|   1900-1959|           5.0|             2|                25|             76|Midwest Airline, ...|                 7835|                24623|                        948.0|                 1413432|                 1529740|   1.25293581928874e-06|  0.0001238227442279|        6| Miami International|  25.792|  -80.286|     Eppley Airfield|MIAMI INTERNATION...| 7.843548387096774|0.06451612903225806|              NULL|              NULL| 68.03225806451613|              76.0|60.096774193548384|201.61290322580646|         medium|    1|          miami|\n",
      "|2403|          5|        1|   1100-1159|           5.0|             2|                 7|            160|American Airlines...|                 7835|                75506|                       4602.0|                 1413432|                11744595|   9.82082928995461e-05|   0.000177287219593|        6| Miami International|  25.792|  -80.286|  Alexander Hamilton|MIAMI INTERNATION...| 7.843548387096774|0.06451612903225806|              NULL|              NULL| 68.03225806451613|              76.0|60.096774193548384|201.61290322580646|         medium|    1|          miami|\n",
      "|2409|          5|        0|   1400-1459|           2.0|             2|                15|             50|American Eagle Ai...|                 7835|                23760|                        991.0|                 1413432|                 1204766|      0.000348407665605|   0.000106867151749|       15| Miami International|  25.792|  -80.286|Savannah/Hilton H...|MIAMI INTERNATION...| 7.843548387096774|0.06451612903225806|              NULL|              NULL| 68.03225806451613|              76.0|60.096774193548384|201.61290322580646|         medium|    1|          miami|\n",
      "|2414|          5|        0|   2000-2059|           5.0|             2|                13|            128|American Airlines...|                 7835|                75506|                       4602.0|                 1413432|                11744595|   9.82082928995461e-05|   0.000177287219593|        6| Miami International|  25.792|  -80.286|Theodore Francis ...|MIAMI INTERNATION...| 7.843548387096774|0.06451612903225806|              NULL|              NULL| 68.03225806451613|              76.0|60.096774193548384|201.61290322580646|         medium|    1|          miami|\n",
      "|2670|          5|        0|   0800-0859|           5.0|             1|                13|            150|     JetBlue Airways|                 6506|                23463|                        446.0|                  874468|                 3190369|     0.0001600389254787|  0.0001268661761139|       14| Tampa International|  27.973|  -82.535|                NONE|TAMPA INTERNATION...| 7.360967741935484|0.13580645161290322|               0.0|               0.0|60.774193548387096| 70.35483870967742|51.645161290322584|232.25806451612902|           high|    1|          tampa|\n",
      "|2727|          5|        0|   0900-0959|           5.0|             2|                11|            143|Southwest Airline...|                 6506|               107363|                       2333.0|                  874468|                13382999|   6.178236301460919...|9.88941230999822e-05|       14| Tampa International|  27.973|  -82.535|Indianapolis Muni...|TAMPA INTERNATION...| 7.360967741935484|0.13580645161290322|               0.0|               0.0|60.774193548387096| 70.35483870967742|51.645161290322584|232.25806451612902|           high|    1|          tampa|\n",
      "|2738|          5|        0|   2000-2059|           1.0|             2|                13|            128|American Airlines...|                 6506|                75506|                       1128.0|                  874468|                11744595|   9.82082928995461e-05|   0.000177287219593|        6| Tampa International|  27.973|  -82.535| Miami International|TAMPA INTERNATION...| 7.360967741935484|0.13580645161290322|               0.0|               0.0|60.774193548387096| 70.35483870967742|51.645161290322584|232.25806451612902|           high|    1|          tampa|\n",
      "|2845|          5|        0|   2100-2159|           4.0|             5|                 8|            175|Southwest Airline...|                 6506|               107363|                       2333.0|                  874468|                13382999|   6.178236301460919...|9.88941230999822e-05|        3| Tampa International|  27.973|  -82.535|Greater Buffalo I...|TAMPA INTERNATION...| 7.360967741935484|0.13580645161290322|               0.0|               0.0|60.774193548387096| 70.35483870967742|51.645161290322584|232.25806451612902|           high|    1|          tampa|\n",
      "|2951|          3|        0|   2000-2059|           5.0|             5|                 3|            143|Southwest Airline...|                 3215|               107363|                       1342.0|                  401950|                13382999|   6.178236301460919...|9.88941230999822e-05|       19|San Antonio Inter...|  29.533|  -98.469|San Diego Interna...|SAN JOSE INTERNAT...| 6.105483870967744| 0.0932258064516129|              NULL|              NULL|              NULL|61.645161290322584| 44.67741935483871|241.61290322580646|         medium|    1|            san|\n",
      "+----+-----------+---------+------------+--------------+--------------+------------------+---------------+--------------------+---------------------+---------------------+-----------------------------+------------------------+------------------------+-----------------------+--------------------+---------+--------------------+--------+---------+--------------------+--------------------+------------------+-------------------+------------------+------------------+------------------+------------------+------------------+------------------+---------------+-----+---------------+\n",
      "only showing top 20 rows\n",
      "\n"
     ]
    },
    {
     "name": "stderr",
     "output_type": "stream",
     "text": [
      "                                                                                \r"
     ]
    }
   ],
   "source": [
    "# Cut off one MONTH column\n",
    "# First, see all columns including duplicates\n",
    "print(\"Columns before operation:\", joined_df.columns)\n",
    "\n",
    "# Select columns. If 'age' appears twice, only the first occurrence is kept in the output\n",
    "selected_columns = [col for col in joined_df.columns if col != 'MONTH' and col != 'normalized_name'] + ['f.MONTH'] + ['f.normalized_name']\n",
    "\n",
    "joined_df = joined_df.select(selected_columns)\n",
    "\n",
    "# Show the modified DataFrame\n",
    "print(\"Columns after operation:\", joined_df.columns)\n",
    "joined_df.show()"
   ]
  },
  {
   "cell_type": "code",
   "execution_count": 67,
   "id": "296ae472-b839-4775-add2-eae72a3d03c2",
   "metadata": {
    "collapsed": true,
    "jupyter": {
     "outputs_hidden": true
    }
   },
   "outputs": [
    {
     "name": "stdout",
     "output_type": "stream",
     "text": [
      "root\n",
      " |-- _c0: string (nullable = true)\n",
      " |-- DAY_OF_WEEK: string (nullable = true)\n",
      " |-- DEP_DEL15: string (nullable = true)\n",
      " |-- DEP_TIME_BLK: string (nullable = true)\n",
      " |-- DISTANCE_GROUP: string (nullable = true)\n",
      " |-- SEGMENT_NUMBER: string (nullable = true)\n",
      " |-- CONCURRENT_FLIGHTS: string (nullable = true)\n",
      " |-- NUMBER_OF_SEATS: string (nullable = true)\n",
      " |-- CARRIER_NAME: string (nullable = true)\n",
      " |-- AIRPORT_FLIGHTS_MONTH: string (nullable = true)\n",
      " |-- AIRLINE_FLIGHTS_MONTH: string (nullable = true)\n",
      " |-- AIRLINE_AIRPORT_FLIGHTS_MONTH: string (nullable = true)\n",
      " |-- AVG_MONTHLY_PASS_AIRPORT: string (nullable = true)\n",
      " |-- AVG_MONTHLY_PASS_AIRLINE: string (nullable = true)\n",
      " |-- FLT_ATTENDANTS_PER_PASS: string (nullable = true)\n",
      " |-- GROUND_SERV_PER_PASS: string (nullable = true)\n",
      " |-- PLANE_AGE: string (nullable = true)\n",
      " |-- DEPARTING_AIRPORT: string (nullable = true)\n",
      " |-- LATITUDE: string (nullable = true)\n",
      " |-- LONGITUDE: string (nullable = true)\n",
      " |-- PREVIOUS_AIRPORT: string (nullable = true)\n",
      " |-- NAME: string (nullable = true)\n",
      " |-- AWND: double (nullable = true)\n",
      " |-- PRCP: double (nullable = true)\n",
      " |-- SNOW: double (nullable = true)\n",
      " |-- SNWD: double (nullable = true)\n",
      " |-- TAVG: double (nullable = true)\n",
      " |-- TMAX: double (nullable = true)\n",
      " |-- TMIN: double (nullable = true)\n",
      " |-- WDF2: double (nullable = true)\n",
      " |-- precip_category: string (nullable = false)\n",
      " |-- MONTH: integer (nullable = true)\n",
      " |-- normalized_name: string (nullable = true)\n",
      "\n"
     ]
    }
   ],
   "source": [
    "joined_df.printSchema()"
   ]
  },
  {
   "cell_type": "code",
   "execution_count": 70,
   "id": "69caaf58-3343-4759-9f6b-3df108905834",
   "metadata": {
    "collapsed": true,
    "jupyter": {
     "outputs_hidden": true
    }
   },
   "outputs": [
    {
     "name": "stderr",
     "output_type": "stream",
     "text": [
      "24/05/01 21:48:51 WARN CSVHeaderChecker: CSV header does not conform to the schema.\n",
      " Header: , MONTH, DAY_OF_WEEK, DEP_DEL15, DEP_TIME_BLK, DISTANCE_GROUP, SEGMENT_NUMBER, CONCURRENT_FLIGHTS, NUMBER_OF_SEATS, CARRIER_NAME, AIRPORT_FLIGHTS_MONTH, AIRLINE_FLIGHTS_MONTH, AIRLINE_AIRPORT_FLIGHTS_MONTH, AVG_MONTHLY_PASS_AIRPORT, AVG_MONTHLY_PASS_AIRLINE, FLT_ATTENDANTS_PER_PASS, GROUND_SERV_PER_PASS, PLANE_AGE, DEPARTING_AIRPORT, LATITUDE, LONGITUDE, PREVIOUS_AIRPORT\n",
      " Schema: _c0, MONTH, DAY_OF_WEEK, DEP_DEL15, DEP_TIME_BLK, DISTANCE_GROUP, SEGMENT_NUMBER, CONCURRENT_FLIGHTS, NUMBER_OF_SEATS, CARRIER_NAME, AIRPORT_FLIGHTS_MONTH, AIRLINE_FLIGHTS_MONTH, AIRLINE_AIRPORT_FLIGHTS_MONTH, AVG_MONTHLY_PASS_AIRPORT, AVG_MONTHLY_PASS_AIRLINE, FLT_ATTENDANTS_PER_PASS, GROUND_SERV_PER_PASS, PLANE_AGE, DEPARTING_AIRPORT, LATITUDE, LONGITUDE, PREVIOUS_AIRPORT\n",
      "Expected: _c0 but found: \n",
      "CSV file: file:///home/mate/repos/LuckaEvolucne/full_data_flightdelay.csv\n",
      "[Stage 274:>                                                        (0 + 1) / 1]\r"
     ]
    },
    {
     "name": "stdout",
     "output_type": "stream",
     "text": [
      "+----+-----------+---------+------------+--------------+--------------+------------------+---------------+--------------------+---------------------+---------------------+-----------------------------+------------------------+------------------------+-----------------------+--------------------+---------+--------------------+--------+---------+--------------------+--------------------+------------------+-------------------+----+------------------+------------------+------------------+------------------+------------------+---------------+-----+---------------+----------+\n",
      "| _c0|DAY_OF_WEEK|DEP_DEL15|DEP_TIME_BLK|DISTANCE_GROUP|SEGMENT_NUMBER|CONCURRENT_FLIGHTS|NUMBER_OF_SEATS|        CARRIER_NAME|AIRPORT_FLIGHTS_MONTH|AIRLINE_FLIGHTS_MONTH|AIRLINE_AIRPORT_FLIGHTS_MONTH|AVG_MONTHLY_PASS_AIRPORT|AVG_MONTHLY_PASS_AIRLINE|FLT_ATTENDANTS_PER_PASS|GROUND_SERV_PER_PASS|PLANE_AGE|   DEPARTING_AIRPORT|LATITUDE|LONGITUDE|    PREVIOUS_AIRPORT|                NAME|              AWND|               PRCP|SNOW|              SNWD|              TAVG|              TMAX|              TMIN|              WDF2|precip_category|MONTH|normalized_name|MONTH_NAME|\n",
      "+----+-----------+---------+------------+--------------+--------------+------------------+---------------+--------------------+---------------------+---------------------+-----------------------------+------------------------+------------------------+-----------------------+--------------------+---------+--------------------+--------+---------+--------------------+--------------------+------------------+-------------------+----+------------------+------------------+------------------+------------------+------------------+---------------+-----+---------------+----------+\n",
      "| 283|          7|        0|   1400-1459|           1.0|             4|                25|            143|Southwest Airline...|                13056|               107363|                       5873.0|                 1903352|                13382999|   6.178236301460919...|9.88941230999822e-05|       13|McCarran Internat...|   36.08| -115.152|   Dallas Love Field|MCCARRAN INTERNAT...| 5.368709677419356|0.03354838709677419| 0.0|               0.0|49.774193548387096|58.516129032258064| 42.12903225806452|134.83870967741936|            low|    1|       mccarran|   January|\n",
      "| 330|          7|        1|   1100-1159|           1.0|             4|                26|            162|     JetBlue Airways|                13056|                23463|                        299.0|                 1903352|                 3190369|     0.0001600389254787|  0.0001268661761139|       15|McCarran Internat...|   36.08| -115.152|Long Beach Daughe...|MCCARRAN INTERNAT...| 5.368709677419356|0.03354838709677419| 0.0|               0.0|49.774193548387096|58.516129032258064| 42.12903225806452|134.83870967741936|            low|    1|       mccarran|   January|\n",
      "| 717|          5|        0|   1300-1359|           4.0|             3|                28|            186|Frontier Airlines...|                11861|                 9496|                       1129.0|                 1823051|                 1857122|     0.0001157256482767|7.134694872433899...|        2|Orlando Internati...|  28.432|  -81.325|Albany International|ORLANDO INTERNATI...| 8.722903225806453| 0.1129032258064516| 0.0|               0.0| 60.41935483870968| 71.06451612903226|50.064516129032256|202.90322580645162|         medium|    1|        orlando|   January|\n",
      "| 801|          5|        0|   1600-1659|           3.0|             5|                27|            110|Delta Air Lines Inc.|                11861|                73508|                       1549.0|                 1823051|                12460183|     0.0001441658849878|  0.0001486602009422|       20|Orlando Internati...|  28.432|  -81.325|Raleigh-Durham In...|ORLANDO INTERNATI...| 8.722903225806453| 0.1129032258064516| 0.0|               0.0| 60.41935483870968| 71.06451612903226|50.064516129032256|202.90322580645162|         medium|    1|        orlando|   January|\n",
      "|1114|          5|        0|   1700-1759|           3.0|             3|                15|            180|Delta Air Lines Inc.|                 4308|                73508|                        545.0|                  477995|                12460183|     0.0001441658849878|  0.0001486602009422|        3|Kansas City Inter...|  39.298|  -94.714|   Atlanta Municipal|KANSAS CITY INTER...|10.484516129032258|0.05741935483870968| 0.3|1.1483870967741936|28.548387096774192| 36.32258064516129|19.870967741935484| 216.7741935483871|         medium|    1|         kansas|   January|\n",
      "+----+-----------+---------+------------+--------------+--------------+------------------+---------------+--------------------+---------------------+---------------------+-----------------------------+------------------------+------------------------+-----------------------+--------------------+---------+--------------------+--------+---------+--------------------+--------------------+------------------+-------------------+----+------------------+------------------+------------------+------------------+------------------+---------------+-----+---------------+----------+\n",
      "only showing top 5 rows\n",
      "\n"
     ]
    },
    {
     "name": "stderr",
     "output_type": "stream",
     "text": [
      "                                                                                \r"
     ]
    }
   ],
   "source": [
    "# Transform month from numerical to nominal\n",
    "from pyspark.sql.functions import udf\n",
    "from pyspark.sql.types import StringType\n",
    "# Month mapping dictionary\n",
    "month_dict = {\n",
    "    '1': 'January', '2': 'February', '3': 'March', '4': 'April', \n",
    "    '5': 'May', '6': 'June', '7': 'July', '8': 'August', \n",
    "    '9': 'September', '10': 'October', '11': 'November', '12': 'December'\n",
    "}\n",
    "\n",
    "# Define the UDF to convert numerical months to names\n",
    "def convert_month_to_name(month):\n",
    "    return month_dict.get(str(month), \"Unknown\")\n",
    "#print(\"DataFrame Columns:\", joined_df.columns)\n",
    "#joined_df.show(5)\n",
    "convert_month_udf = udf(convert_month_to_name, StringType())\n",
    "\n",
    "# Apply the UDF to create a new column with month names\n",
    "df_with_months = joined_df.withColumn(\"MONTH_NAME\", convert_month_udf(joined_df[\"MONTH\"]))\n",
    "\n"
   ]
  },
  {
   "cell_type": "code",
   "execution_count": 80,
   "id": "b31a9702-8d5f-434a-97ba-d1f650f0640a",
   "metadata": {
    "collapsed": true,
    "jupyter": {
     "outputs_hidden": true
    }
   },
   "outputs": [
    {
     "name": "stdout",
     "output_type": "stream",
     "text": [
      "root\n",
      " |-- _c0: string (nullable = true)\n",
      " |-- DAY_OF_WEEK: string (nullable = true)\n",
      " |-- DEP_DEL15: string (nullable = true)\n",
      " |-- DEP_TIME_BLK: string (nullable = true)\n",
      " |-- DISTANCE_GROUP: string (nullable = true)\n",
      " |-- SEGMENT_NUMBER: string (nullable = true)\n",
      " |-- CONCURRENT_FLIGHTS: string (nullable = true)\n",
      " |-- NUMBER_OF_SEATS: string (nullable = true)\n",
      " |-- CARRIER_NAME: string (nullable = true)\n",
      " |-- AIRPORT_FLIGHTS_MONTH: string (nullable = true)\n",
      " |-- AIRLINE_FLIGHTS_MONTH: string (nullable = true)\n",
      " |-- AIRLINE_AIRPORT_FLIGHTS_MONTH: string (nullable = true)\n",
      " |-- AVG_MONTHLY_PASS_AIRPORT: string (nullable = true)\n",
      " |-- AVG_MONTHLY_PASS_AIRLINE: string (nullable = true)\n",
      " |-- FLT_ATTENDANTS_PER_PASS: string (nullable = true)\n",
      " |-- GROUND_SERV_PER_PASS: string (nullable = true)\n",
      " |-- PLANE_AGE: string (nullable = true)\n",
      " |-- DEPARTING_AIRPORT: string (nullable = true)\n",
      " |-- LATITUDE: string (nullable = true)\n",
      " |-- LONGITUDE: string (nullable = true)\n",
      " |-- PREVIOUS_AIRPORT: string (nullable = true)\n",
      " |-- NAME: string (nullable = true)\n",
      " |-- AWND: double (nullable = true)\n",
      " |-- PRCP: double (nullable = true)\n",
      " |-- SNOW: double (nullable = true)\n",
      " |-- SNWD: double (nullable = true)\n",
      " |-- TAVG: double (nullable = true)\n",
      " |-- TMAX: double (nullable = true)\n",
      " |-- TMIN: double (nullable = true)\n",
      " |-- WDF2: double (nullable = true)\n",
      " |-- precip_category: string (nullable = false)\n",
      " |-- MONTH: integer (nullable = true)\n",
      " |-- normalized_name: string (nullable = true)\n",
      " |-- MONTH_NAME: string (nullable = true)\n",
      "\n"
     ]
    }
   ],
   "source": [
    "#df_with_months.show(n=5)\n",
    "df_with_months.printSchema()"
   ]
  },
  {
   "cell_type": "code",
   "execution_count": 83,
   "id": "e50f9edf-6376-4ff9-891f-114fca77a180",
   "metadata": {
    "collapsed": true,
    "jupyter": {
     "outputs_hidden": true
    }
   },
   "outputs": [
    {
     "name": "stderr",
     "output_type": "stream",
     "text": [
      "24/05/01 22:43:34 WARN CSVHeaderChecker: CSV header does not conform to the schema.\n",
      " Header: , MONTH, DAY_OF_WEEK, DEP_DEL15, DEP_TIME_BLK, DISTANCE_GROUP, SEGMENT_NUMBER, CONCURRENT_FLIGHTS, NUMBER_OF_SEATS, CARRIER_NAME, AIRPORT_FLIGHTS_MONTH, AIRLINE_FLIGHTS_MONTH, AIRLINE_AIRPORT_FLIGHTS_MONTH, AVG_MONTHLY_PASS_AIRPORT, AVG_MONTHLY_PASS_AIRLINE, FLT_ATTENDANTS_PER_PASS, GROUND_SERV_PER_PASS, PLANE_AGE, DEPARTING_AIRPORT, LATITUDE, LONGITUDE, PREVIOUS_AIRPORT\n",
      " Schema: _c0, MONTH, DAY_OF_WEEK, DEP_DEL15, DEP_TIME_BLK, DISTANCE_GROUP, SEGMENT_NUMBER, CONCURRENT_FLIGHTS, NUMBER_OF_SEATS, CARRIER_NAME, AIRPORT_FLIGHTS_MONTH, AIRLINE_FLIGHTS_MONTH, AIRLINE_AIRPORT_FLIGHTS_MONTH, AVG_MONTHLY_PASS_AIRPORT, AVG_MONTHLY_PASS_AIRLINE, FLT_ATTENDANTS_PER_PASS, GROUND_SERV_PER_PASS, PLANE_AGE, DEPARTING_AIRPORT, LATITUDE, LONGITUDE, PREVIOUS_AIRPORT\n",
      "Expected: _c0 but found: \n",
      "CSV file: file:///home/mate/repos/LuckaEvolucne/full_data_flightdelay.csv\n",
      "[Stage 349:>                                                        (0 + 1) / 1]\r"
     ]
    },
    {
     "name": "stdout",
     "output_type": "stream",
     "text": [
      "+---+-----------+---------+------------+--------------+--------------+------------------+---------------+--------------------+---------------------+---------------------+-----------------------------+------------------------+------------------------+-----------------------+--------------------+---------+--------------------+--------+---------+-----------------+--------------------+-----------------+-------------------+----+----+------------------+------------------+-----------------+------------------+---------------+-----+---------------+----------+----------------+\n",
      "|_c0|DAY_OF_WEEK|DEP_DEL15|DEP_TIME_BLK|DISTANCE_GROUP|SEGMENT_NUMBER|CONCURRENT_FLIGHTS|NUMBER_OF_SEATS|        CARRIER_NAME|AIRPORT_FLIGHTS_MONTH|AIRLINE_FLIGHTS_MONTH|AIRLINE_AIRPORT_FLIGHTS_MONTH|AVG_MONTHLY_PASS_AIRPORT|AVG_MONTHLY_PASS_AIRLINE|FLT_ATTENDANTS_PER_PASS|GROUND_SERV_PER_PASS|PLANE_AGE|   DEPARTING_AIRPORT|LATITUDE|LONGITUDE| PREVIOUS_AIRPORT|                NAME|             AWND|               PRCP|SNOW|SNWD|              TAVG|              TMAX|             TMIN|              WDF2|precip_category|MONTH|normalized_name|MONTH_NAME|DAY_OF_WEEK_NAME|\n",
      "+---+-----------+---------+------------+--------------+--------------+------------------+---------------+--------------------+---------------------+---------------------+-----------------------------+------------------------+------------------------+-----------------------+--------------------+---------+--------------------+--------+---------+-----------------+--------------------+-----------------+-------------------+----+----+------------------+------------------+-----------------+------------------+---------------+-----+---------------+----------+----------------+\n",
      "|283|          7|        0|   1400-1459|           1.0|             4|                25|            143|Southwest Airline...|                13056|               107363|                       5873.0|                 1903352|                13382999|   6.178236301460919...|9.88941230999822e-05|       13|McCarran Internat...|   36.08| -115.152|Dallas Love Field|MCCARRAN INTERNAT...|5.368709677419356|0.03354838709677419| 0.0| 0.0|49.774193548387096|58.516129032258064|42.12903225806452|134.83870967741936|            low|    1|       mccarran|   January|          Sunday|\n",
      "+---+-----------+---------+------------+--------------+--------------+------------------+---------------+--------------------+---------------------+---------------------+-----------------------------+------------------------+------------------------+-----------------------+--------------------+---------+--------------------+--------+---------+-----------------+--------------------+-----------------+-------------------+----+----+------------------+------------------+-----------------+------------------+---------------+-----+---------------+----------+----------------+\n",
      "only showing top 1 row\n",
      "\n"
     ]
    },
    {
     "name": "stderr",
     "output_type": "stream",
     "text": [
      "                                                                                \r"
     ]
    }
   ],
   "source": [
    "# Transform weekday from numerical to nominal\n",
    "\n",
    "# Weekday mapping dictionary\n",
    "month_dict = {\n",
    "    '1': 'Monday', '2': 'Tuesday', '3': 'Wednesday', '4': 'Thursday', \n",
    "    '5': 'Friday', '6': 'Saturday', '7': 'Sunday'}\n",
    "\n",
    "# Define the UDF to convert numerical months to names\n",
    "def convert_weekday_to_name(weekday):\n",
    "    return month_dict.get(str(weekday), \"Unknown\")\n",
    "#print(\"DataFrame Columns:\", joined_df.columns)\n",
    "#joined_df.show(5)\n",
    "convert_weekday_udf = udf(convert_weekday_to_name, StringType())\n",
    "\n",
    "# Apply the UDF to create a new column with month names\n",
    "df_with_months = df_with_months.withColumn(\"DAY_OF_WEEK_NAME\", convert_weekday_udf(joined_df[\"DAY_OF_WEEK\"]))\n",
    "#df_with_months.show(n=1)\n",
    "df_with_months = df_with_months.drop(\"DAY_OF_WEEK\").withColumnRenamed(\"DAY_OF_WEEK_NAME\", \"DAY_OF_WEEK\")\n"
   ]
  },
  {
   "cell_type": "code",
   "execution_count": 85,
   "id": "35222d86-c7ee-4b72-9aca-e7d55a4598d7",
   "metadata": {
    "collapsed": true,
    "jupyter": {
     "outputs_hidden": true
    }
   },
   "outputs": [
    {
     "name": "stdout",
     "output_type": "stream",
     "text": [
      "root\n",
      " |-- _c0: string (nullable = true)\n",
      " |-- DEP_DEL15: string (nullable = true)\n",
      " |-- DEP_TIME_BLK: string (nullable = true)\n",
      " |-- DISTANCE_GROUP: string (nullable = true)\n",
      " |-- SEGMENT_NUMBER: string (nullable = true)\n",
      " |-- CONCURRENT_FLIGHTS: string (nullable = true)\n",
      " |-- NUMBER_OF_SEATS: string (nullable = true)\n",
      " |-- CARRIER_NAME: string (nullable = true)\n",
      " |-- AIRPORT_FLIGHTS_MONTH: string (nullable = true)\n",
      " |-- AIRLINE_FLIGHTS_MONTH: string (nullable = true)\n",
      " |-- AIRLINE_AIRPORT_FLIGHTS_MONTH: string (nullable = true)\n",
      " |-- AVG_MONTHLY_PASS_AIRPORT: string (nullable = true)\n",
      " |-- AVG_MONTHLY_PASS_AIRLINE: string (nullable = true)\n",
      " |-- FLT_ATTENDANTS_PER_PASS: string (nullable = true)\n",
      " |-- GROUND_SERV_PER_PASS: string (nullable = true)\n",
      " |-- PLANE_AGE: string (nullable = true)\n",
      " |-- DEPARTING_AIRPORT: string (nullable = true)\n",
      " |-- LATITUDE: string (nullable = true)\n",
      " |-- LONGITUDE: string (nullable = true)\n",
      " |-- PREVIOUS_AIRPORT: string (nullable = true)\n",
      " |-- NAME: string (nullable = true)\n",
      " |-- AWND: double (nullable = true)\n",
      " |-- PRCP: double (nullable = true)\n",
      " |-- SNOW: double (nullable = true)\n",
      " |-- SNWD: double (nullable = true)\n",
      " |-- TAVG: double (nullable = true)\n",
      " |-- TMAX: double (nullable = true)\n",
      " |-- TMIN: double (nullable = true)\n",
      " |-- WDF2: double (nullable = true)\n",
      " |-- precip_category: string (nullable = false)\n",
      " |-- MONTH: integer (nullable = true)\n",
      " |-- normalized_name: string (nullable = true)\n",
      " |-- MONTH_NAME: string (nullable = true)\n",
      " |-- DAY_OF_WEEK: string (nullable = true)\n",
      "\n"
     ]
    },
    {
     "name": "stderr",
     "output_type": "stream",
     "text": [
      "24/05/01 22:45:24 WARN CSVHeaderChecker: CSV header does not conform to the schema.\n",
      " Header: , MONTH, DAY_OF_WEEK, DEP_DEL15, DEP_TIME_BLK, DISTANCE_GROUP, SEGMENT_NUMBER, CONCURRENT_FLIGHTS, NUMBER_OF_SEATS, CARRIER_NAME, AIRPORT_FLIGHTS_MONTH, AIRLINE_FLIGHTS_MONTH, AIRLINE_AIRPORT_FLIGHTS_MONTH, AVG_MONTHLY_PASS_AIRPORT, AVG_MONTHLY_PASS_AIRLINE, FLT_ATTENDANTS_PER_PASS, GROUND_SERV_PER_PASS, PLANE_AGE, DEPARTING_AIRPORT, LATITUDE, LONGITUDE, PREVIOUS_AIRPORT\n",
      " Schema: _c0, MONTH, DAY_OF_WEEK, DEP_DEL15, DEP_TIME_BLK, DISTANCE_GROUP, SEGMENT_NUMBER, CONCURRENT_FLIGHTS, NUMBER_OF_SEATS, CARRIER_NAME, AIRPORT_FLIGHTS_MONTH, AIRLINE_FLIGHTS_MONTH, AIRLINE_AIRPORT_FLIGHTS_MONTH, AVG_MONTHLY_PASS_AIRPORT, AVG_MONTHLY_PASS_AIRLINE, FLT_ATTENDANTS_PER_PASS, GROUND_SERV_PER_PASS, PLANE_AGE, DEPARTING_AIRPORT, LATITUDE, LONGITUDE, PREVIOUS_AIRPORT\n",
      "Expected: _c0 but found: \n",
      "CSV file: file:///home/mate/repos/LuckaEvolucne/full_data_flightdelay.csv\n",
      "[Stage 355:>                                                        (0 + 1) / 1]\r"
     ]
    },
    {
     "name": "stdout",
     "output_type": "stream",
     "text": [
      "+-----------+\n",
      "|DAY_OF_WEEK|\n",
      "+-----------+\n",
      "|     Sunday|\n",
      "+-----------+\n",
      "only showing top 1 row\n",
      "\n"
     ]
    },
    {
     "name": "stderr",
     "output_type": "stream",
     "text": [
      "                                                                                \r"
     ]
    }
   ],
   "source": [
    "df_with_months.printSchema()\n",
    "df_with_months.select('DAY_OF_WEEK').show(n=1)"
   ]
  },
  {
   "cell_type": "code",
   "execution_count": 86,
   "id": "9d86e162-c582-4967-8490-c15d6f24924f",
   "metadata": {
    "collapsed": true,
    "jupyter": {
     "outputs_hidden": true
    }
   },
   "outputs": [
    {
     "name": "stderr",
     "output_type": "stream",
     "text": [
      "24/05/01 22:46:46 WARN CSVHeaderChecker: CSV header does not conform to the schema.\n",
      " Header: , MONTH, DAY_OF_WEEK, DEP_DEL15, DEP_TIME_BLK, DISTANCE_GROUP, SEGMENT_NUMBER, CONCURRENT_FLIGHTS, NUMBER_OF_SEATS, CARRIER_NAME, AIRPORT_FLIGHTS_MONTH, AIRLINE_FLIGHTS_MONTH, AIRLINE_AIRPORT_FLIGHTS_MONTH, AVG_MONTHLY_PASS_AIRPORT, AVG_MONTHLY_PASS_AIRLINE, FLT_ATTENDANTS_PER_PASS, GROUND_SERV_PER_PASS, PLANE_AGE, DEPARTING_AIRPORT, LATITUDE, LONGITUDE, PREVIOUS_AIRPORT\n",
      " Schema: _c0, MONTH, DAY_OF_WEEK, DEP_DEL15, DEP_TIME_BLK, DISTANCE_GROUP, SEGMENT_NUMBER, CONCURRENT_FLIGHTS, NUMBER_OF_SEATS, CARRIER_NAME, AIRPORT_FLIGHTS_MONTH, AIRLINE_FLIGHTS_MONTH, AIRLINE_AIRPORT_FLIGHTS_MONTH, AVG_MONTHLY_PASS_AIRPORT, AVG_MONTHLY_PASS_AIRLINE, FLT_ATTENDANTS_PER_PASS, GROUND_SERV_PER_PASS, PLANE_AGE, DEPARTING_AIRPORT, LATITUDE, LONGITUDE, PREVIOUS_AIRPORT\n",
      "Expected: _c0 but found: \n",
      "CSV file: file:///home/mate/repos/LuckaEvolucne/full_data_flightdelay.csv\n",
      "                                                                                \r"
     ]
    },
    {
     "data": {
      "text/plain": [
       "12"
      ]
     },
     "execution_count": 86,
     "metadata": {},
     "output_type": "execute_result"
    }
   ],
   "source": [
    "df_with_months.select(\"DISTANCE_GROUP\").distinct().count()"
   ]
  },
  {
   "cell_type": "code",
   "execution_count": 87,
   "id": "907ebec2-238b-4780-b449-0e0ed8ff77fe",
   "metadata": {
    "collapsed": true,
    "jupyter": {
     "outputs_hidden": true
    }
   },
   "outputs": [],
   "source": [
    "# Plane age into nominal\n",
    "\n",
    "# Categorize based on research\n",
    "df_with_months = df_with_months.withColumn(\n",
    "    \"PLANE_AGE_NOM\",\n",
    "    when(col(\"PLANE_AGE\") <= 10, \"New\")\n",
    "    .when(col(\"PLANE_AGE\") <= 20, \"Standard\")\n",
    "    .otherwise(\"Old\")\n",
    ")\n",
    "\n",
    "# Replace PLANE_AGE column with the nominal one\n",
    "df_with_months = df_with_months.drop(\"PLANE_AGE\").withColumnRenamed(\"PLANE_AGE_NOM\", \"PLANE_AGE\")\n",
    "df_with_months.show(n=2)"
   ]
  },
  {
   "cell_type": "code",
   "execution_count": 89,
   "id": "ae9dda61-73e7-48a1-b83f-4007773ecff6",
   "metadata": {
    "collapsed": true,
    "jupyter": {
     "outputs_hidden": true
    }
   },
   "outputs": [
    {
     "name": "stderr",
     "output_type": "stream",
     "text": [
      "24/05/01 22:56:48 WARN CSVHeaderChecker: CSV header does not conform to the schema.\n",
      " Header: , MONTH, DAY_OF_WEEK, DEP_DEL15, DEP_TIME_BLK, DISTANCE_GROUP, SEGMENT_NUMBER, CONCURRENT_FLIGHTS, NUMBER_OF_SEATS, CARRIER_NAME, AIRPORT_FLIGHTS_MONTH, AIRLINE_FLIGHTS_MONTH, AIRLINE_AIRPORT_FLIGHTS_MONTH, AVG_MONTHLY_PASS_AIRPORT, AVG_MONTHLY_PASS_AIRLINE, FLT_ATTENDANTS_PER_PASS, GROUND_SERV_PER_PASS, PLANE_AGE, DEPARTING_AIRPORT, LATITUDE, LONGITUDE, PREVIOUS_AIRPORT\n",
      " Schema: _c0, MONTH, DAY_OF_WEEK, DEP_DEL15, DEP_TIME_BLK, DISTANCE_GROUP, SEGMENT_NUMBER, CONCURRENT_FLIGHTS, NUMBER_OF_SEATS, CARRIER_NAME, AIRPORT_FLIGHTS_MONTH, AIRLINE_FLIGHTS_MONTH, AIRLINE_AIRPORT_FLIGHTS_MONTH, AVG_MONTHLY_PASS_AIRPORT, AVG_MONTHLY_PASS_AIRLINE, FLT_ATTENDANTS_PER_PASS, GROUND_SERV_PER_PASS, PLANE_AGE, DEPARTING_AIRPORT, LATITUDE, LONGITUDE, PREVIOUS_AIRPORT\n",
      "Expected: _c0 but found: \n",
      "CSV file: file:///home/mate/repos/LuckaEvolucne/full_data_flightdelay.csv\n",
      "[Stage 378:==============>(16 + 1) / 17][Stage 383:>                (0 + 0) / 1]\r"
     ]
    },
    {
     "name": "stdout",
     "output_type": "stream",
     "text": [
      "+---------+-------------+\n",
      "|PLANE_AGE|PLANE_AGE_NOM|\n",
      "+---------+-------------+\n",
      "|        1|          New|\n",
      "|       29|          Old|\n",
      "|        6|          New|\n",
      "|        3|          New|\n",
      "|       24|          Old|\n",
      "|       31|          Old|\n",
      "|       30|          Old|\n",
      "|        0|          New|\n",
      "|       27|          Old|\n",
      "|        4|          New|\n",
      "|       13|     Standard|\n",
      "|       10|          New|\n",
      "|       21|          Old|\n",
      "|       20|     Standard|\n",
      "|       17|     Standard|\n",
      "|       15|     Standard|\n",
      "|        9|          New|\n",
      "|       16|     Standard|\n",
      "|       11|     Standard|\n",
      "|       19|     Standard|\n",
      "+---------+-------------+\n",
      "only showing top 20 rows\n",
      "\n"
     ]
    },
    {
     "name": "stderr",
     "output_type": "stream",
     "text": [
      "                                                                                \r"
     ]
    }
   ],
   "source": [
    "df_with_months.select('PLANE_AGE', \"PLANE_AGE_NOM\").distinct().show(n=20)"
   ]
  },
  {
   "cell_type": "code",
   "execution_count": 90,
   "id": "1d6f4890-8139-4ac8-a70f-26415e301f7f",
   "metadata": {
    "collapsed": true,
    "jupyter": {
     "outputs_hidden": true
    }
   },
   "outputs": [
    {
     "name": "stderr",
     "output_type": "stream",
     "text": [
      "24/05/01 23:03:27 WARN CSVHeaderChecker: CSV header does not conform to the schema.\n",
      " Header: , MONTH, DAY_OF_WEEK, DEP_DEL15, DEP_TIME_BLK, DISTANCE_GROUP, SEGMENT_NUMBER, CONCURRENT_FLIGHTS, NUMBER_OF_SEATS, CARRIER_NAME, AIRPORT_FLIGHTS_MONTH, AIRLINE_FLIGHTS_MONTH, AIRLINE_AIRPORT_FLIGHTS_MONTH, AVG_MONTHLY_PASS_AIRPORT, AVG_MONTHLY_PASS_AIRLINE, FLT_ATTENDANTS_PER_PASS, GROUND_SERV_PER_PASS, PLANE_AGE, DEPARTING_AIRPORT, LATITUDE, LONGITUDE, PREVIOUS_AIRPORT\n",
      " Schema: _c0, MONTH, DAY_OF_WEEK, DEP_DEL15, DEP_TIME_BLK, DISTANCE_GROUP, SEGMENT_NUMBER, CONCURRENT_FLIGHTS, NUMBER_OF_SEATS, CARRIER_NAME, AIRPORT_FLIGHTS_MONTH, AIRLINE_FLIGHTS_MONTH, AIRLINE_AIRPORT_FLIGHTS_MONTH, AVG_MONTHLY_PASS_AIRPORT, AVG_MONTHLY_PASS_AIRLINE, FLT_ATTENDANTS_PER_PASS, GROUND_SERV_PER_PASS, PLANE_AGE, DEPARTING_AIRPORT, LATITUDE, LONGITUDE, PREVIOUS_AIRPORT\n",
      "Expected: _c0 but found: \n",
      "CSV file: file:///home/mate/repos/LuckaEvolucne/full_data_flightdelay.csv\n",
      "                                                                                \r"
     ]
    },
    {
     "name": "stdout",
     "output_type": "stream",
     "text": [
      "+---+---------+------------+--------------+--------------+------------------+---------------+--------------------+---------------------+---------------------+-----------------------------+------------------------+------------------------+-----------------------+--------------------+--------------------+--------+---------+--------------------+--------------------+-----------------+-------------------+----+----+------------------+------------------+-----------------+------------------+---------------+-----+---------------+----------+-----------+---------+\n",
      "|_c0|DEP_DEL15|DEP_TIME_BLK|DISTANCE_GROUP|SEGMENT_NUMBER|CONCURRENT_FLIGHTS|NUMBER_OF_SEATS|        CARRIER_NAME|AIRPORT_FLIGHTS_MONTH|AIRLINE_FLIGHTS_MONTH|AIRLINE_AIRPORT_FLIGHTS_MONTH|AVG_MONTHLY_PASS_AIRPORT|AVG_MONTHLY_PASS_AIRLINE|FLT_ATTENDANTS_PER_PASS|GROUND_SERV_PER_PASS|   DEPARTING_AIRPORT|LATITUDE|LONGITUDE|    PREVIOUS_AIRPORT|                NAME|             AWND|               PRCP|SNOW|SNWD|              TAVG|              TMAX|             TMIN|              WDF2|precip_category|MONTH|normalized_name|MONTH_NAME|DAY_OF_WEEK|PLANE_AGE|\n",
      "+---+---------+------------+--------------+--------------+------------------+---------------+--------------------+---------------------+---------------------+-----------------------------+------------------------+------------------------+-----------------------+--------------------+--------------------+--------+---------+--------------------+--------------------+-----------------+-------------------+----+----+------------------+------------------+-----------------+------------------+---------------+-----+---------------+----------+-----------+---------+\n",
      "|283|        0|   1400-1459|           1.0|             4|                25|            143|Southwest Airline...|                13056|               107363|                       5873.0|                 1903352|                13382999|   6.178236301460919...|9.88941230999822e-05|McCarran Internat...|   36.08| -115.152|   Dallas Love Field|MCCARRAN INTERNAT...|5.368709677419356|0.03354838709677419| 0.0| 0.0|49.774193548387096|58.516129032258064|42.12903225806452|134.83870967741936|            low|    1|       mccarran|   January|     Sunday| Standard|\n",
      "|330|        1|   1100-1159|           1.0|             4|                26|            162|     JetBlue Airways|                13056|                23463|                        299.0|                 1903352|                 3190369|     0.0001600389254787|  0.0001268661761139|McCarran Internat...|   36.08| -115.152|Long Beach Daughe...|MCCARRAN INTERNAT...|5.368709677419356|0.03354838709677419| 0.0| 0.0|49.774193548387096|58.516129032258064|42.12903225806452|134.83870967741936|            low|    1|       mccarran|   January|     Sunday| Standard|\n",
      "+---+---------+------------+--------------+--------------+------------------+---------------+--------------------+---------------------+---------------------+-----------------------------+------------------------+------------------------+-----------------------+--------------------+--------------------+--------+---------+--------------------+--------------------+-----------------+-------------------+----+----+------------------+------------------+-----------------+------------------+---------------+-----+---------------+----------+-----------+---------+\n",
      "only showing top 2 rows\n",
      "\n"
     ]
    },
    {
     "name": "stderr",
     "output_type": "stream",
     "text": [
      "                                                                                \r"
     ]
    }
   ],
   "source": []
  },
  {
   "cell_type": "code",
   "execution_count": null,
   "id": "c2881713-1124-45d2-97e7-45c9c0233355",
   "metadata": {
    "collapsed": true,
    "jupyter": {
     "outputs_hidden": true
    }
   },
   "outputs": [],
   "source": []
  }
 ],
 "metadata": {
  "kernelspec": {
   "display_name": "Python 3 (ipykernel)",
   "language": "python",
   "name": "python3"
  },
  "language_info": {
   "codemirror_mode": {
    "name": "ipython",
    "version": 3
   },
   "file_extension": ".py",
   "mimetype": "text/x-python",
   "name": "python",
   "nbconvert_exporter": "python",
   "pygments_lexer": "ipython3",
   "version": "3.10.12"
  }
 },
 "nbformat": 4,
 "nbformat_minor": 5
}
